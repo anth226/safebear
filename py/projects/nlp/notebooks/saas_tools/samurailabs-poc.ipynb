{
 "cells": [
  {
   "cell_type": "code",
   "execution_count": 1,
   "metadata": {},
   "outputs": [],
   "source": [
    "import os\n",
    "import json\n",
    "import requests\n",
    "\n",
    "API_KEY = os.getenv(\"GUARDIAN_API_KEY\")\n",
    "\n",
    "def predict(text):\n",
    "    url = \"https://cyber-guardian.p.rapidapi.com/detections_r\"\n",
    "\n",
    "    payload = {\n",
    "        \"message\": {\n",
    "            \"msg_body\": text,\n",
    "            \"author_id\": \"419130737149739008\",\n",
    "            \"msg_id\": \"990922957016694798\",\n",
    "            \"channel_id\": \"928990565536784497\",\n",
    "            \"application_id\": \"default\",\n",
    "            \"timestamp\": 1656317643,\n",
    "            \"language\": \"fr\",\n",
    "            \"author_is_bot\": False,\n",
    "            \"msg_type\": \"PUBLIC_MESSAGE\"\n",
    "        },\n",
    "        \"application_custom_data\": {}\n",
    "    }\n",
    "    headers = {\n",
    "        \"content-type\": \"application/json\",\n",
    "        \"X-RapidAPI-Key\": API_KEY,\n",
    "        \"X-RapidAPI-Host\": \"cyber-guardian.p.rapidapi.com\"\n",
    "    }\n",
    "\n",
    "    response = requests.request(\"POST\", url, json=payload, headers=headers)\n",
    "\n",
    "    return json.loads(response.text)['data']['detection_details']"
   ]
  },
  {
   "cell_type": "code",
   "execution_count": 2,
   "metadata": {},
   "outputs": [
    {
     "data": {
      "text/plain": [
       "{'original_text': \"T'es quand même un sacré fils de pute\",\n",
       " 'original_categories': [],\n",
       " 'resulting_text': \"T'es quand même un sacré fils de pute\",\n",
       " 'resulting_categories': [],\n",
       " 'in_citation_detection': False,\n",
       " 'copypasta_detection': False}"
      ]
     },
     "execution_count": 2,
     "metadata": {},
     "output_type": "execute_result"
    }
   ],
   "source": [
    "predict(\"T'es quand même un sacré fils de pute\")"
   ]
  },
  {
   "cell_type": "code",
   "execution_count": 3,
   "metadata": {},
   "outputs": [
    {
     "data": {
      "text/plain": [
       "{'original_text': 'va te faire foutre',\n",
       " 'original_categories': [],\n",
       " 'resulting_text': 'va te faire foutre',\n",
       " 'resulting_categories': [],\n",
       " 'in_citation_detection': False,\n",
       " 'copypasta_detection': False}"
      ]
     },
     "execution_count": 3,
     "metadata": {},
     "output_type": "execute_result"
    }
   ],
   "source": [
    "predict(\"va te faire foutre\")"
   ]
  },
  {
   "cell_type": "code",
   "execution_count": 4,
   "metadata": {},
   "outputs": [
    {
     "data": {
      "text/plain": [
       "{'original_text': 'fuck you',\n",
       " 'original_categories': ['Strong Profanity: General',\n",
       "  'Severe Profanity: Insult',\n",
       "  'Strong Personal Attack: Interlocutor',\n",
       "  'Strong Sexual Remark'],\n",
       " 'resulting_text': 'fuck you',\n",
       " 'resulting_categories': ['Severe Profanity: Insult',\n",
       "  'Strong Profanity: General',\n",
       "  'Strong Personal Attack: Interlocutor',\n",
       "  'Strong Sexual Remark'],\n",
       " 'in_citation_detection': False,\n",
       " 'copypasta_detection': False}"
      ]
     },
     "execution_count": 4,
     "metadata": {},
     "output_type": "execute_result"
    }
   ],
   "source": [
    "predict(\"fuck you\")"
   ]
  }
 ],
 "metadata": {
  "kernelspec": {
   "display_name": "Python 3",
   "language": "python",
   "name": "python3"
  },
  "language_info": {
   "codemirror_mode": {
    "name": "ipython",
    "version": 3
   },
   "file_extension": ".py",
   "mimetype": "text/x-python",
   "name": "python",
   "nbconvert_exporter": "python",
   "pygments_lexer": "ipython3",
   "version": "3.9.12"
  },
  "orig_nbformat": 4,
  "vscode": {
   "interpreter": {
    "hash": "761dcc2e730670a5406af1e4d952870e7bed611eb3687403cb5a8f4459e63789"
   }
  }
 },
 "nbformat": 4,
 "nbformat_minor": 2
}
