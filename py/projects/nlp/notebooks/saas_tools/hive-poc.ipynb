{
 "cells": [
  {
   "attachments": {},
   "cell_type": "markdown",
   "metadata": {},
   "source": [
    "# Investigating the use of Hive Moderation API\n",
    "\n",
    "Detecting cyberbullying, abusive language, threats of violence and hate speech in online conversations.\n",
    "\n",
    "https://hivemoderation.com/text-moderation\n",
    "\n",
    "https://docs.thehive.ai/docs/text-moderation-api"
   ]
  },
  {
   "cell_type": "code",
   "execution_count": 1,
   "metadata": {},
   "outputs": [],
   "source": [
    "import os\n",
    "import requests\n",
    "import pandas as pd"
   ]
  },
  {
   "cell_type": "code",
   "execution_count": 2,
   "metadata": {},
   "outputs": [],
   "source": [
    "API_KEY = os.environ.get(\"HIVE_API_KEY\")"
   ]
  },
  {
   "cell_type": "code",
   "execution_count": 3,
   "metadata": {},
   "outputs": [],
   "source": [
    "def classify_text(input_text):\n",
    "    response = requests.post(\n",
    "        url='https://api.thehive.ai/api/v2/task/sync',\n",
    "        headers={'Authorization': f'Token {API_KEY}'},\n",
    "        data={'text_data': input_text},\n",
    "    )\n",
    "    response_dict = response.json()\n",
    "    \n",
    "    res = response_dict['status'][0]\n",
    "    pred_status = res['status']\n",
    "    if not pred_status['message'] == 'SUCCESS':\n",
    "        print(res)\n",
    "    else:\n",
    "        ner_result = res['response']['text_filters']\n",
    "        lang = res['response']['language']\n",
    "        predictions = [cl for cl in res['response']['output'][0]['classes'] if cl['score'] > 0]\n",
    "        # Return list of predictions\n",
    "        return predictions\n",
    "\n",
    "    return []"
   ]
  },
  {
   "attachments": {},
   "cell_type": "markdown",
   "metadata": {},
   "source": [
    "## Predict Data"
   ]
  },
  {
   "cell_type": "code",
   "execution_count": 4,
   "metadata": {},
   "outputs": [
    {
     "name": "stdout",
     "output_type": "stream",
     "text": [
      "Classes \n",
      " ['hate' 'bullying' 'sexual' 'violence']\n"
     ]
    }
   ],
   "source": [
    "# Read Data\n",
    "df = pd.read_csv(\"safebear_data.csv\")\n",
    "df.label = df.label.replace({\n",
    "    \"Racisme\":\"hate\",\n",
    "    \"Insulte (et Discrimination)\":\"bullying\",\n",
    "    \"Obscénité\":\"sexual\",\n",
    "    \"Sexualité explicite\":\"sexual\",\n",
    "    \"Menace\":\"violence\",\n",
    "    \"Toxicité\":\"bullying\",\n",
    "    \"Sexisme\":\"hate\"\n",
    "})\n",
    "print(\"Classes \\n\",df.label.unique())"
   ]
  },
  {
   "cell_type": "code",
   "execution_count": 5,
   "metadata": {},
   "outputs": [],
   "source": [
    "predictions = []\n",
    "predictions_binary = []\n",
    "for i,row in df.iterrows():\n",
    "    pred = classify_text(row.text)\n",
    "    predictions.append(pred)\n",
    "    # If any labels is predicted say its \"Toxic\" as binary.\n",
    "    binary_label = \"Toxic\" if len(pred) > 0 else \"Normal\"\n",
    "    predictions_binary.append(binary_label)\n",
    "\n",
    "df['prediction'] = predictions\n",
    "df['prediction_binary'] = predictions_binary\n",
    "df['correct_multilabel'] = df.apply(lambda x: x['label'] in [cl['class'] for cl in x.prediction],axis=1)\n",
    "df['correct_binary'] = (df.prediction_binary == 'Toxic')"
   ]
  },
  {
   "attachments": {},
   "cell_type": "markdown",
   "metadata": {},
   "source": [
    "## Show Results"
   ]
  },
  {
   "cell_type": "code",
   "execution_count": 6,
   "metadata": {},
   "outputs": [
    {
     "name": "stdout",
     "output_type": "stream",
     "text": [
      "Binary\n",
      "==============================\n",
      "Correct Prediction / Total Item: 28 / 37\n",
      "Accuracy: 75.68%\n",
      "\n",
      "Multi Label\n",
      "==============================\n",
      "Correct Prediction / Total Item: 18 / 37\n",
      "Accuracy: 48.65%\n"
     ]
    }
   ],
   "source": [
    "print(\"Binary\\n==============================\")\n",
    "accuracy = df['correct_binary'].sum() / len(df) * 100\n",
    "print(f\"Correct Prediction / Total Item: {df['correct_binary'].sum()} / {len(df)}\")\n",
    "print(f\"Accuracy: {accuracy:.2f}%\")\n",
    "print(\"\")\n",
    "print(\"Multi Label\\n==============================\")\n",
    "accuracy = df['correct_multilabel'].sum() / len(df) * 100\n",
    "print(f\"Correct Prediction / Total Item: {df['correct_multilabel'].sum()} / {len(df)}\")\n",
    "print(f\"Accuracy: {accuracy:.2f}%\")"
   ]
  },
  {
   "cell_type": "code",
   "execution_count": 7,
   "metadata": {},
   "outputs": [
    {
     "name": "stdout",
     "output_type": "stream",
     "text": [
      "Text: De toute façon t’es qu’un sale juif t’aurais du mourir en 45\n",
      "Prediction: [{'class': 'hate', 'score': 2}, {'class': 'violence', 'score': 2}, {'class': 'bullying', 'score': 2}]\n",
      "Binary Toxic : ✅\n",
      "True Label : hate\n",
      "\n",
      "Text: Au pire retourne à la mosquée sale arabe\n",
      "Prediction: [{'class': 'hate', 'score': 2}, {'class': 'bullying', 'score': 2}]\n",
      "Binary Toxic : ✅\n",
      "True Label : hate\n",
      "\n",
      "Text: C’est pas l’heure d’aller bouffer des chenilles avec tes 29 femmes le négro ?\n",
      "Prediction: [{'class': 'bullying', 'score': 3}]\n",
      "Binary Toxic : ✅\n",
      "True Label : hate\n",
      "\n",
      "Text: Oh mon Dieu, je n’avais pas vu un Juif courir comme ça depuis les soldes du salon du cuir\n",
      "Prediction: []\n",
      "Binary Toxic : ❌\n",
      "True Label : hate\n",
      "\n",
      "Text: Mais nan j’irai pas en enfer j’suis pas black\n",
      "Prediction: [{'class': 'hate', 'score': 2}, {'class': 'bullying', 'score': 1}]\n",
      "Binary Toxic : ✅\n",
      "True Label : hate\n",
      "\n",
      "Text: Pour vous les juifs le paradis c’est de trouver un cheveu dans votre soupe au resto pour vous faire rembourser\n",
      "Prediction: []\n",
      "Binary Toxic : ❌\n",
      "True Label : hate\n",
      "\n",
      "Text: Est-ce qu'on peut se débarrasser de tous les Mexicains ?\n",
      "Prediction: [{'class': 'hate', 'score': 2}]\n",
      "Binary Toxic : ✅\n",
      "True Label : hate\n",
      "\n",
      "Text: Sale bouffeur de chien\n",
      "Prediction: [{'class': 'bullying', 'score': 2}]\n",
      "Binary Toxic : ✅\n",
      "True Label : hate\n",
      "\n",
      "Text: J’mange jamais de nems j’veux pas attraper l’covid\n",
      "Prediction: []\n",
      "Binary Toxic : ❌\n",
      "True Label : hate\n",
      "\n",
      "Text: T’es quand même un sacré fils de pute\n",
      "Prediction: [{'class': 'bullying', 'score': 3}]\n",
      "Binary Toxic : ✅\n",
      "True Label : bullying\n",
      "\n",
      "Text: J’ai jamais vu un trou du cul pareil\n",
      "Prediction: [{'class': 'bullying', 'score': 2}]\n",
      "Binary Toxic : ✅\n",
      "True Label : bullying\n",
      "\n",
      "Text: Mais quel connard\n",
      "Prediction: [{'class': 'bullying', 'score': 2}]\n",
      "Binary Toxic : ✅\n",
      "True Label : bullying\n",
      "\n",
      "Text: T’es un raté de la vie\n",
      "Prediction: []\n",
      "Binary Toxic : ❌\n",
      "True Label : bullying\n",
      "\n",
      "Text: En plus d’être une merde tu es un gros lard\n",
      "Prediction: [{'class': 'bullying', 'score': 2}]\n",
      "Binary Toxic : ✅\n",
      "True Label : bullying\n",
      "\n",
      "Text: Sale pd va\n",
      "Prediction: [{'class': 'sexual', 'score': 1}, {'class': 'hate', 'score': 3}]\n",
      "Binary Toxic : ✅\n",
      "True Label : bullying\n",
      "\n",
      "Text: je croyais que les enfants handicapés avaient été créées par Dieu pour m’amuser\n",
      "Prediction: [{'class': 'hate', 'score': 2}]\n",
      "Binary Toxic : ✅\n",
      "True Label : bullying\n",
      "\n",
      "Text: Les films indépendants c’est toujours des histoires de cow-boys PD qui mangent du pudding\n",
      "Prediction: [{'class': 'sexual', 'score': 1}, {'class': 'hate', 'score': 3}]\n",
      "Binary Toxic : ✅\n",
      "True Label : bullying\n",
      "\n",
      "Text: J’adore montrer ma grosse queue\n",
      "Prediction: [{'class': 'sexual', 'score': 3}]\n",
      "Binary Toxic : ✅\n",
      "True Label : sexual\n",
      "\n",
      "Text: Suce ma bite sale pd\n",
      "Prediction: [{'class': 'sexual', 'score': 3}, {'class': 'hate', 'score': 3}, {'class': 'bullying', 'score': 2}]\n",
      "Binary Toxic : ✅\n",
      "True Label : sexual\n",
      "\n",
      "Text: J’te démonte\n",
      "Prediction: [{'class': 'sexual', 'score': 3}]\n",
      "Binary Toxic : ✅\n",
      "True Label : sexual\n",
      "\n",
      "Text: J’vais t’enculer à sec\n",
      "Prediction: [{'class': 'sexual', 'score': 3}, {'class': 'bullying', 'score': 2}]\n",
      "Binary Toxic : ✅\n",
      "True Label : sexual\n",
      "\n",
      "Text: Je vais te violer connasse\n",
      "Prediction: [{'class': 'sexual', 'score': 3}, {'class': 'violence', 'score': 3}, {'class': 'bullying', 'score': 3}]\n",
      "Binary Toxic : ✅\n",
      "True Label : sexual\n",
      "\n",
      "Text: Ecarte les cuisses cochonne\n",
      "Prediction: [{'class': 'sexual', 'score': 1}]\n",
      "Binary Toxic : ✅\n",
      "True Label : sexual\n",
      "\n",
      "Text: Je vais te bouffer la chatte\n",
      "Prediction: [{'class': 'sexual', 'score': 3}]\n",
      "Binary Toxic : ✅\n",
      "True Label : sexual\n",
      "\n",
      "Text: Si le paradis est un garçon de huit ans et que l’échelle c’est ma bite, alors je veux bien y croire !\n",
      "Prediction: [{'class': 'sexual', 'score': 3}]\n",
      "Binary Toxic : ✅\n",
      "True Label : sexual\n",
      "\n",
      "Text: J’vais démarrer tes grands morts\n",
      "Prediction: [{'class': 'bullying', 'score': 2}]\n",
      "Binary Toxic : ✅\n",
      "True Label : violence\n",
      "\n",
      "Text: J’vais te trace IP et t’ouvrir la gorge\n",
      "Prediction: [{'class': 'violence', 'score': 3}]\n",
      "Binary Toxic : ✅\n",
      "True Label : violence\n",
      "\n",
      "Text: Suicide toi\n",
      "Prediction: [{'class': 'violence', 'score': 2}, {'class': 'bullying', 'score': 3}]\n",
      "Binary Toxic : ✅\n",
      "True Label : violence\n",
      "\n",
      "Text: l2p\n",
      "Prediction: []\n",
      "Binary Toxic : ❌\n",
      "True Label : bullying\n",
      "\n",
      "Text: ggez\n",
      "Prediction: []\n",
      "Binary Toxic : ❌\n",
      "True Label : bullying\n",
      "\n",
      "Text: Ma maman dit que Dieu déteste les homosexuels c’est pour ça qu’il a envoyé tous les sodomites en France.\n",
      "Prediction: [{'class': 'sexual', 'score': 1}, {'class': 'hate', 'score': 2}]\n",
      "Binary Toxic : ✅\n",
      "True Label : bullying\n",
      "\n",
      "Text: Retourne à la cuisine\n",
      "Prediction: []\n",
      "Binary Toxic : ❌\n",
      "True Label : hate\n",
      "\n",
      "Text: Ta gueule conasse, toi tu fermes ta gueule et tu fais des mômes\n",
      "Prediction: [{'class': 'bullying', 'score': 2}]\n",
      "Binary Toxic : ✅\n",
      "True Label : hate\n",
      "\n",
      "Text: T’as tes règles ?\n",
      "Prediction: []\n",
      "Binary Toxic : ❌\n",
      "True Label : hate\n",
      "\n",
      "Text: Hey ! Toi tu t’écrases pétasse, retourne dans ta cuisine et fais-moi à bouffer\n",
      "Prediction: [{'class': 'sexual', 'score': 3}, {'class': 'bullying', 'score': 3}]\n",
      "Binary Toxic : ✅\n",
      "True Label : hate\n",
      "\n",
      "Text: Je n’ai aucune confiance en des êtres qui peuvent saigner 5 jours sans en crever.\n",
      "Prediction: []\n",
      "Binary Toxic : ❌\n",
      "True Label : hate\n",
      "\n",
      "Text: Aaahh ! Quand une gonzesse dit « faut qu’on parle », tu peux carrément commencer à te latter les couilles tout seul !\n",
      "Prediction: [{'class': 'sexual', 'score': 3}]\n",
      "Binary Toxic : ✅\n",
      "True Label : hate\n",
      "\n"
     ]
    }
   ],
   "source": [
    "for i,row in df.iterrows():\n",
    "    sign = \"✅\" if row.correct_binary else \"❌\"\n",
    "    print(f\"Text: {row.text}\")\n",
    "    print(f\"Prediction: {row.prediction}\")    \n",
    "    print(f\"Binary Toxic : {sign}\")\n",
    "    print(f\"True Label : {row.label}\\n\")"
   ]
  },
  {
   "attachments": {},
   "cell_type": "markdown",
   "metadata": {},
   "source": [
    "# Custom Sentences: Neutral Performance"
   ]
  },
  {
   "cell_type": "code",
   "execution_count": 8,
   "metadata": {},
   "outputs": [],
   "source": [
    "def evaluate_sentences(sentences):\n",
    "    for sentence in sentences:\n",
    "        label = classify_text(sentence)\n",
    "        print(f\"Text: {sentence}\")\n",
    "        print(f\"Prediction: {label}\\n\")"
   ]
  },
  {
   "cell_type": "code",
   "execution_count": 9,
   "metadata": {},
   "outputs": [
    {
     "name": "stdout",
     "output_type": "stream",
     "text": [
      "Text: J'ai adoré la vidéo, continuez comme ça. Je suis déjà abonné.\n",
      "Prediction: []\n",
      "\n",
      "Text: La vidéo était mauvaise. Je ne l'aime pas.\n",
      "Prediction: []\n",
      "\n",
      "Text: Les immigrés vivent avec nous dans notre pays.\n",
      "Prediction: []\n",
      "\n",
      "Text: Je ne suis pas d'accord avec ce que vous dites. Je pense qu'une autre solution peut être trouvée.\n",
      "Prediction: []\n",
      "\n"
     ]
    }
   ],
   "source": [
    "sentences = [\n",
    "    \"J'ai adoré la vidéo, continuez comme ça. Je suis déjà abonné.\",\n",
    "    \"La vidéo était mauvaise. Je ne l'aime pas.\",\n",
    "    \"Les immigrés vivent avec nous dans notre pays.\",\n",
    "    \"Je ne suis pas d'accord avec ce que vous dites. Je pense qu'une autre solution peut être trouvée.\"\n",
    "]\n",
    "evaluate_sentences(sentences)"
   ]
  },
  {
   "attachments": {},
   "cell_type": "markdown",
   "metadata": {},
   "source": [
    "## Custom Sentences: Difficult Examples"
   ]
  },
  {
   "cell_type": "code",
   "execution_count": 10,
   "metadata": {},
   "outputs": [
    {
     "name": "stdout",
     "output_type": "stream",
     "text": [
      "Text: Je pense que les immigrés ne devraient pas exister dans notre pays.\n",
      "Prediction: []\n",
      "\n",
      "Text: Je ne suis pas d'accord avec votre opinion, je pense que c'est ridicule.\n",
      "Prediction: []\n",
      "\n",
      "Text: Je ne suis pas d'accord avec ton opinion, je pense que c'est ridicule, mais je te respecte quand même.\n",
      "Prediction: []\n",
      "\n",
      "Text: Les hommes peuvent faire des travaux plus difficiles que les femmes.\n",
      "Prediction: []\n",
      "\n",
      "Text: La présence des femmes dans le monde du travail est importante.\n",
      "Prediction: []\n",
      "\n",
      "Text: Je n'ai pas du tout aimé la vidéo, mais bonne chance.\n",
      "Prediction: []\n",
      "\n"
     ]
    }
   ],
   "source": [
    "sentences = [\n",
    "    \"Je pense que les immigrés ne devraient pas exister dans notre pays.\",    \n",
    "    \"Je ne suis pas d'accord avec votre opinion, je pense que c'est ridicule.\",\n",
    "    \"Je ne suis pas d'accord avec ton opinion, je pense que c'est ridicule, mais je te respecte quand même.\",\n",
    "    \"Les hommes peuvent faire des travaux plus difficiles que les femmes.\",\n",
    "    \"La présence des femmes dans le monde du travail est importante.\",\n",
    "    \"Je n'ai pas du tout aimé la vidéo, mais bonne chance.\"\n",
    "]\n",
    "evaluate_sentences(sentences)"
   ]
  }
 ],
 "metadata": {
  "kernelspec": {
   "display_name": "Python 3",
   "language": "python",
   "name": "python3"
  },
  "language_info": {
   "codemirror_mode": {
    "name": "ipython",
    "version": 3
   },
   "file_extension": ".py",
   "mimetype": "text/x-python",
   "name": "python",
   "nbconvert_exporter": "python",
   "pygments_lexer": "ipython3",
   "version": "3.9.12"
  },
  "orig_nbformat": 4,
  "vscode": {
   "interpreter": {
    "hash": "761dcc2e730670a5406af1e4d952870e7bed611eb3687403cb5a8f4459e63789"
   }
  }
 },
 "nbformat": 4,
 "nbformat_minor": 2
}
