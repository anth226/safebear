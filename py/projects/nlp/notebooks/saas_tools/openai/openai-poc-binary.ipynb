{
 "cells": [
  {
   "cell_type": "markdown",
   "metadata": {},
   "source": [
    "# OpenAI proof-of-concept with binary labels\n",
    "\n",
    "Demonstrating the use of the OpenAI API to analyse text toxicity and cyberbullying.\n",
    "\n",
    "https://openai.com/api/\n",
    "\n",
    "We are making labels binary to see binary accuracy\n",
    "\n",
    "Labels we have currently:\n",
    "```\n",
    "1. Racisme\n",
    "2. Insulte (et Discrimination)\n",
    "3. Obscénité\n",
    "4. Sexualité explicite\n",
    "5. Menace\n",
    "6. Toxicité\n",
    "7. Sexisme\n",
    "```\n",
    "Labels in this notebook will be `toxic` or `normal`."
   ]
  },
  {
   "cell_type": "code",
   "execution_count": 1,
   "metadata": {},
   "outputs": [],
   "source": [
    "import os\n",
    "import time\n",
    "import openai\n",
    "import pandas as pd\n",
    "from tqdm import tqdm"
   ]
  },
  {
   "cell_type": "code",
   "execution_count": 2,
   "metadata": {},
   "outputs": [],
   "source": [
    "openai.api_key = os.getenv(\"OPENAI_API_KEY\")"
   ]
  },
  {
   "cell_type": "code",
   "execution_count": 3,
   "metadata": {},
   "outputs": [],
   "source": [
    "#model = text-davinci-003, text-curie-001, text-babbage-001, text-ada-001\n",
    "def classify_text(input_text, model=\"text-davinci-003\", retry=0):\n",
    "    prompt = f\"\"\"Decide whether a text's class is toxic or normal. Write only the label, no explanation.\n",
    "    Text: \"{input_text}\"\n",
    "    Class:    \n",
    "    \"\"\"\n",
    "    \n",
    "    # Get Prediction from OpenAI\n",
    "    try:\n",
    "        response = openai.Completion.create(\n",
    "          model=model,\n",
    "          prompt=prompt,\n",
    "          temperature=0,\n",
    "          max_tokens=20,\n",
    "          top_p=1.0,\n",
    "          frequency_penalty=0.0,\n",
    "          presence_penalty=0.0\n",
    "        )\n",
    "    except Exception as e:\n",
    "        if retry < 3:\n",
    "            print(\"Error on classification. Retrying in 5 sec \",e)\n",
    "            time.sleep(5)\n",
    "            return classify_text(input_text, retry= retry+1)\n",
    "        else:\n",
    "            print(\"Error on classification. Reached retry limit \",e)\n",
    "            return None\n",
    "    \n",
    "    # Parse Response\n",
    "    label = response[\"choices\"][0].text.strip()\n",
    "    label = label.replace(\"\\\"\",\"\").replace(\".\",\"\")    \n",
    "    if label != \"Toxic\" and label != \"Normal\":\n",
    "        if \"is toxic\" in label:\n",
    "            return \"Toxic\"\n",
    "        else:\n",
    "            return \"Normal\"\n",
    "    return label"
   ]
  },
  {
   "cell_type": "markdown",
   "metadata": {},
   "source": [
    "## Prepare Data"
   ]
  },
  {
   "cell_type": "code",
   "execution_count": 4,
   "metadata": {},
   "outputs": [],
   "source": [
    "# Read Data\n",
    "df = pd.read_csv(\"safebear_data.csv\")\n",
    "df.label = df.label = 'Toxic'"
   ]
  },
  {
   "cell_type": "code",
   "execution_count": 5,
   "metadata": {
    "scrolled": false
   },
   "outputs": [],
   "source": [
    "# Generate Predictions\n",
    "def run_for_model(df, model):\n",
    "    df=df.copy()\n",
    "    predictions = []\n",
    "    for i,row in df.iterrows():\n",
    "        predictions.append(classify_text(row.text, model=model))\n",
    "        # to avoid ratelimiterror\n",
    "        time.sleep(2)\n",
    "\n",
    "    df['prediction'] = predictions\n",
    "    df['correct'] = (df.prediction == df.label)\n",
    "    \n",
    "    accuracy = df['correct'].sum() / len(df) * 100\n",
    "    print(\"\")\n",
    "    print(f\"Correct Prediction / Total Item: {df['correct'].sum()} / {len(df)}\")\n",
    "    print(f\"Accuracy: {accuracy:.2f}%\")\n",
    "    \n",
    "    return df"
   ]
  },
  {
   "cell_type": "markdown",
   "metadata": {},
   "source": [
    "## Accuracy"
   ]
  },
  {
   "cell_type": "markdown",
   "metadata": {},
   "source": [
    "### text-davinci-003"
   ]
  },
  {
   "cell_type": "code",
   "execution_count": 6,
   "metadata": {},
   "outputs": [
    {
     "name": "stdout",
     "output_type": "stream",
     "text": [
      "\n",
      "Correct Prediction / Total Item: 29 / 37\n",
      "Accuracy: 78.38%\n"
     ]
    }
   ],
   "source": [
    "df_davinci = run_for_model(df, \"text-davinci-003\")    "
   ]
  },
  {
   "cell_type": "markdown",
   "metadata": {},
   "source": [
    "### text-curie-001"
   ]
  },
  {
   "cell_type": "code",
   "execution_count": 7,
   "metadata": {},
   "outputs": [
    {
     "name": "stdout",
     "output_type": "stream",
     "text": [
      "\n",
      "Correct Prediction / Total Item: 37 / 37\n",
      "Accuracy: 100.00%\n"
     ]
    }
   ],
   "source": [
    "df_curie = run_for_model(df, \"text-curie-001\")    "
   ]
  },
  {
   "cell_type": "markdown",
   "metadata": {},
   "source": [
    "### text-babbage-001"
   ]
  },
  {
   "cell_type": "code",
   "execution_count": 8,
   "metadata": {},
   "outputs": [
    {
     "name": "stdout",
     "output_type": "stream",
     "text": [
      "\n",
      "Correct Prediction / Total Item: 35 / 37\n",
      "Accuracy: 94.59%\n"
     ]
    }
   ],
   "source": [
    "df_babbage = run_for_model(df, \"text-babbage-001\")"
   ]
  },
  {
   "cell_type": "markdown",
   "metadata": {},
   "source": [
    "### text-ada-001"
   ]
  },
  {
   "cell_type": "code",
   "execution_count": 9,
   "metadata": {},
   "outputs": [
    {
     "name": "stdout",
     "output_type": "stream",
     "text": [
      "Error on classification. Retrying in 5 sec  Rate limit reached for default-global-with-image-limits in organization org-sjlda1axlW8Fd50AXi1ufZYl on requests per min. Limit: 60.000000 / min. Current: 70.000000 / min. Contact support@openai.com if you continue to have issues. Please add a payment method to your account to increase your rate limit. Visit https://beta.openai.com/account/billing to add a payment method.\n",
      "\n",
      "Correct Prediction / Total Item: 3 / 37\n",
      "Accuracy: 8.11%\n"
     ]
    }
   ],
   "source": [
    "df_ada = run_for_model(df, \"text-ada-001\")    "
   ]
  },
  {
   "cell_type": "markdown",
   "metadata": {},
   "source": [
    "## Custom Sentences: Neutral Performance"
   ]
  },
  {
   "cell_type": "code",
   "execution_count": 10,
   "metadata": {},
   "outputs": [],
   "source": [
    "def evaluate_sentences(sentences, model):\n",
    "    for sentence in sentences:\n",
    "        label = classify_text(sentence, model=model)\n",
    "        print(f\"Text: {sentence}\")\n",
    "        print(f\"Prediction: {label}\\n\")"
   ]
  },
  {
   "cell_type": "code",
   "execution_count": 11,
   "metadata": {},
   "outputs": [],
   "source": [
    "sentences = [\n",
    "    \"J'ai adoré la vidéo, continuez comme ça. Je suis déjà abonné.\",\n",
    "    \"La vidéo était mauvaise. Je ne l'aime pas.\",\n",
    "    \"Les immigrés vivent avec nous dans notre pays.\",\n",
    "    \"Je ne suis pas d'accord avec ce que vous dites. Je pense qu'une autre solution peut être trouvée.\"\n",
    "]"
   ]
  },
  {
   "cell_type": "markdown",
   "metadata": {},
   "source": [
    "### text-curie-001"
   ]
  },
  {
   "cell_type": "code",
   "execution_count": 12,
   "metadata": {},
   "outputs": [
    {
     "name": "stdout",
     "output_type": "stream",
     "text": [
      "Text: J'ai adoré la vidéo, continuez comme ça. Je suis déjà abonné.\n",
      "Prediction: Toxic\n",
      "\n",
      "Text: La vidéo était mauvaise. Je ne l'aime pas.\n",
      "Prediction: Toxic\n",
      "\n",
      "Text: Les immigrés vivent avec nous dans notre pays.\n",
      "Prediction: Toxic\n",
      "\n",
      "Text: Je ne suis pas d'accord avec ce que vous dites. Je pense qu'une autre solution peut être trouvée.\n",
      "Prediction: Toxic\n",
      "\n"
     ]
    }
   ],
   "source": [
    "evaluate_sentences(sentences, \"text-curie-001\")"
   ]
  },
  {
   "cell_type": "markdown",
   "metadata": {},
   "source": [
    "### text-ada-001"
   ]
  },
  {
   "cell_type": "code",
   "execution_count": 13,
   "metadata": {},
   "outputs": [
    {
     "name": "stdout",
     "output_type": "stream",
     "text": [
      "Text: J'ai adoré la vidéo, continuez comme ça. Je suis déjà abonné.\n",
      "Prediction: Normal\n",
      "\n",
      "Text: La vidéo était mauvaise. Je ne l'aime pas.\n",
      "Prediction: Normal\n",
      "\n",
      "Text: Les immigrés vivent avec nous dans notre pays.\n",
      "Prediction: Normal\n",
      "\n",
      "Text: Je ne suis pas d'accord avec ce que vous dites. Je pense qu'une autre solution peut être trouvée.\n",
      "Prediction: Normal\n",
      "\n"
     ]
    }
   ],
   "source": [
    "evaluate_sentences(sentences, \"text-ada-001\")"
   ]
  },
  {
   "cell_type": "markdown",
   "metadata": {},
   "source": [
    "### text-davinci-003"
   ]
  },
  {
   "cell_type": "code",
   "execution_count": 14,
   "metadata": {},
   "outputs": [
    {
     "name": "stdout",
     "output_type": "stream",
     "text": [
      "Text: J'ai adoré la vidéo, continuez comme ça. Je suis déjà abonné.\n",
      "Prediction: Normal\n",
      "\n",
      "Text: La vidéo était mauvaise. Je ne l'aime pas.\n",
      "Prediction: Normal\n",
      "\n",
      "Text: Les immigrés vivent avec nous dans notre pays.\n",
      "Prediction: Normal\n",
      "\n",
      "Text: Je ne suis pas d'accord avec ce que vous dites. Je pense qu'une autre solution peut être trouvée.\n",
      "Prediction: Normal\n",
      "\n"
     ]
    }
   ],
   "source": [
    "evaluate_sentences(sentences, \"text-davinci-003\")"
   ]
  },
  {
   "cell_type": "markdown",
   "metadata": {},
   "source": [
    "## Custom Sentences: Difficult Examples"
   ]
  },
  {
   "cell_type": "code",
   "execution_count": 15,
   "metadata": {},
   "outputs": [],
   "source": [
    "sentences = [\n",
    "    \"Je pense que les immigrés ne devraient pas exister dans notre pays.\",    \n",
    "    \"Je ne suis pas d'accord avec votre opinion, je pense que c'est ridicule.\",\n",
    "    \"Je ne suis pas d'accord avec ton opinion, je pense que c'est ridicule, mais je te respecte quand même.\",\n",
    "    \"Les hommes peuvent faire des travaux plus difficiles que les femmes.\",\n",
    "    \"La présence des femmes dans le monde du travail est importante.\",\n",
    "    \"Je n'ai pas du tout aimé la vidéo, mais bonne chance.\"\n",
    "]"
   ]
  },
  {
   "cell_type": "markdown",
   "metadata": {},
   "source": [
    "### text-curie-001"
   ]
  },
  {
   "cell_type": "code",
   "execution_count": 16,
   "metadata": {},
   "outputs": [
    {
     "name": "stdout",
     "output_type": "stream",
     "text": [
      "Text: Je pense que les immigrés ne devraient pas exister dans notre pays.\n",
      "Prediction: Toxic\n",
      "\n",
      "Text: Je ne suis pas d'accord avec votre opinion, je pense que c'est ridicule.\n",
      "Prediction: Toxic\n",
      "\n",
      "Text: Je ne suis pas d'accord avec ton opinion, je pense que c'est ridicule, mais je te respecte quand même.\n",
      "Prediction: Toxic\n",
      "\n",
      "Text: Les hommes peuvent faire des travaux plus difficiles que les femmes.\n",
      "Prediction: Toxic\n",
      "\n",
      "Text: La présence des femmes dans le monde du travail est importante.\n",
      "Prediction: Toxic\n",
      "\n",
      "Text: Je n'ai pas du tout aimé la vidéo, mais bonne chance.\n",
      "Prediction: Toxic\n",
      "\n"
     ]
    }
   ],
   "source": [
    "evaluate_sentences(sentences, \"text-curie-001\")"
   ]
  },
  {
   "cell_type": "markdown",
   "metadata": {},
   "source": [
    "### text-ada-001"
   ]
  },
  {
   "cell_type": "code",
   "execution_count": 17,
   "metadata": {},
   "outputs": [
    {
     "name": "stdout",
     "output_type": "stream",
     "text": [
      "Text: Je pense que les immigrés ne devraient pas exister dans notre pays.\n",
      "Prediction: Normal\n",
      "\n",
      "Text: Je ne suis pas d'accord avec votre opinion, je pense que c'est ridicule.\n",
      "Prediction: Normal\n",
      "\n",
      "Text: Je ne suis pas d'accord avec ton opinion, je pense que c'est ridicule, mais je te respecte quand même.\n",
      "Prediction: Normal\n",
      "\n",
      "Text: Les hommes peuvent faire des travaux plus difficiles que les femmes.\n",
      "Prediction: Normal\n",
      "\n",
      "Text: La présence des femmes dans le monde du travail est importante.\n",
      "Prediction: Normal\n",
      "\n",
      "Text: Je n'ai pas du tout aimé la vidéo, mais bonne chance.\n",
      "Prediction: Normal\n",
      "\n"
     ]
    }
   ],
   "source": [
    "evaluate_sentences(sentences, \"text-ada-001\")"
   ]
  },
  {
   "cell_type": "markdown",
   "metadata": {},
   "source": [
    "### text-davinci-001"
   ]
  },
  {
   "cell_type": "code",
   "execution_count": 18,
   "metadata": {},
   "outputs": [
    {
     "name": "stdout",
     "output_type": "stream",
     "text": [
      "Text: Je pense que les immigrés ne devraient pas exister dans notre pays.\n",
      "Prediction: Toxic\n",
      "\n",
      "Text: Je ne suis pas d'accord avec votre opinion, je pense que c'est ridicule.\n",
      "Prediction: Normal\n",
      "\n",
      "Text: Je ne suis pas d'accord avec ton opinion, je pense que c'est ridicule, mais je te respecte quand même.\n",
      "Prediction: Normal\n",
      "\n",
      "Text: Les hommes peuvent faire des travaux plus difficiles que les femmes.\n",
      "Prediction: Normal\n",
      "\n",
      "Text: La présence des femmes dans le monde du travail est importante.\n",
      "Prediction: Normal\n",
      "\n",
      "Text: Je n'ai pas du tout aimé la vidéo, mais bonne chance.\n",
      "Prediction: Normal\n",
      "\n"
     ]
    }
   ],
   "source": [
    "evaluate_sentences(sentences, \"text-davinci-003\")"
   ]
  }
 ],
 "metadata": {
  "kernelspec": {
   "display_name": "Python 3",
   "language": "python",
   "name": "python3"
  },
  "language_info": {
   "codemirror_mode": {
    "name": "ipython",
    "version": 3
   },
   "file_extension": ".py",
   "mimetype": "text/x-python",
   "name": "python",
   "nbconvert_exporter": "python",
   "pygments_lexer": "ipython3",
   "version": "3.9.12"
  },
  "vscode": {
   "interpreter": {
    "hash": "761dcc2e730670a5406af1e4d952870e7bed611eb3687403cb5a8f4459e63789"
   }
  }
 },
 "nbformat": 4,
 "nbformat_minor": 2
}
