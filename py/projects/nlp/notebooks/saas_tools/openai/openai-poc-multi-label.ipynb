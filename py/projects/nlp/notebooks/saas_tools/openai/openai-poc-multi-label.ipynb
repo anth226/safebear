{
 "cells": [
  {
   "attachments": {},
   "cell_type": "markdown",
   "metadata": {},
   "source": [
    "# OpenAI proof-of-concept with labels merged\n",
    "\n",
    "Demonstrating the use of the OpenAI API to analyse text toxicity and cyberbullying.\n",
    "\n",
    "https://openai.com/api/\n",
    "\n",
    "We are applying multi-label classification here with the original labels.\n",
    "```\n",
    "1. Racisme\n",
    "2. Insulte (et Discrimination)\n",
    "3. Obscénité\n",
    "4. Sexualité explicite\n",
    "5. Menace\n",
    "6. Toxicité\n",
    "7. Sexisme\n",
    "```"
   ]
  },
  {
   "cell_type": "code",
   "execution_count": 1,
   "metadata": {},
   "outputs": [],
   "source": [
    "import os\n",
    "import time\n",
    "import openai\n",
    "import pandas as pd\n",
    "from tqdm import tqdm"
   ]
  },
  {
   "cell_type": "code",
   "execution_count": 2,
   "metadata": {},
   "outputs": [],
   "source": [
    "openai.api_key = os.getenv(\"OPENAI_API_KEY\")"
   ]
  },
  {
   "cell_type": "code",
   "execution_count": 3,
   "metadata": {},
   "outputs": [],
   "source": [
    "def classify_text(input_text, model=\"text-davinci-003\", retry=0):\n",
    "    prompt = f\"\"\"The following is a list of text categories in French:\n",
    "\n",
    "    1. Racisme\n",
    "    2. Insulte (et Discrimination)\n",
    "    3. Obscénité\n",
    "    4. Sexualité explicite\n",
    "    5. Menace\n",
    "    6. Toxicité\n",
    "    7. Sexisme\n",
    "\n",
    "    Please classify the following text as one or multiple of the above categories:\n",
    "    \"{input_text}\"\n",
    "    \"\"\"\n",
    "    \n",
    "    # Get Prediction from OpenAI\n",
    "    try:\n",
    "        response = openai.Completion.create(\n",
    "          model=model,\n",
    "          prompt=prompt,\n",
    "          temperature=0,\n",
    "          max_tokens=60,\n",
    "          top_p=1.0,\n",
    "          frequency_penalty=0.0,\n",
    "          presence_penalty=0.0\n",
    "        )\n",
    "    except Exception as e:\n",
    "        if retry < 3:\n",
    "            print(\"Error on classification. Retrying in 5 sec \",e)\n",
    "            time.sleep(5)\n",
    "            return classify_text(input_text, retry= retry+1)\n",
    "        else:\n",
    "            print(\"Error on classification. Reached retry limit \",e)\n",
    "            return None\n",
    "    \n",
    "    # Parse Response\n",
    "    label = response[\"choices\"][0].text.strip()\n",
    "    if \".\" in label:\n",
    "        # Sometimes openai returns response as 1.Racisme\n",
    "        label = label.split(\".\")[1].strip()\n",
    "    \n",
    "    if not label:\n",
    "        return []\n",
    "\n",
    "    # some times it uses comma, sometimes new line. So let's handle both\n",
    "    label = label.replace('\\n',',')\n",
    "    return [label.strip() for label in label.split(',')]"
   ]
  },
  {
   "cell_type": "markdown",
   "metadata": {},
   "source": [
    "## Prepare Data"
   ]
  },
  {
   "cell_type": "code",
   "execution_count": 4,
   "metadata": {},
   "outputs": [
    {
     "name": "stdout",
     "output_type": "stream",
     "text": [
      "Classes \n",
      " ['Racisme' 'Insulte (et Discrimination)' 'Obscénité' 'Sexualité explicite'\n",
      " 'Menace' 'Toxicité' 'Sexisme']\n"
     ]
    }
   ],
   "source": [
    "# Read Data\n",
    "df = pd.read_csv(\"safebear_data.csv\")\n",
    "print(\"Classes \\n\",df.label.unique())"
   ]
  },
  {
   "cell_type": "code",
   "execution_count": 5,
   "metadata": {},
   "outputs": [],
   "source": [
    "# Generate Predictions\n",
    "def run_for_model(df, model):\n",
    "    df=df.copy()\n",
    "    predictions = []\n",
    "    for i,row in df.iterrows():\n",
    "        predictions.append(classify_text(row.text, model=model))\n",
    "        # to avoid ratelimiterror\n",
    "        time.sleep(2)\n",
    "\n",
    "    df['prediction'] = predictions\n",
    "    df['correct'] = df.apply(lambda x: x['label'] in x.prediction,axis=1)\n",
    "    \n",
    "    accuracy = df['correct'].sum() / len(df) * 100\n",
    "    print(\"\")\n",
    "    print(f\"Correct Prediction / Total Item: {df['correct'].sum()} / {len(df)}\")\n",
    "    print(f\"Accuracy: {accuracy:.2f}%\")\n",
    "    \n",
    "    return df"
   ]
  },
  {
   "cell_type": "markdown",
   "metadata": {},
   "source": [
    "## Accuracy"
   ]
  },
  {
   "attachments": {},
   "cell_type": "markdown",
   "metadata": {},
   "source": [
    "### text-davinci-003"
   ]
  },
  {
   "cell_type": "code",
   "execution_count": 6,
   "metadata": {},
   "outputs": [
    {
     "name": "stdout",
     "output_type": "stream",
     "text": [
      "\n",
      "Correct Prediction / Total Item: 18 / 37\n",
      "Accuracy: 48.65%\n"
     ]
    }
   ],
   "source": [
    "df_davinci = run_for_model(df, \"text-davinci-003\")"
   ]
  },
  {
   "attachments": {},
   "cell_type": "markdown",
   "metadata": {},
   "source": [
    "### text-curie-001"
   ]
  },
  {
   "cell_type": "code",
   "execution_count": 7,
   "metadata": {},
   "outputs": [
    {
     "name": "stdout",
     "output_type": "stream",
     "text": [
      "\n",
      "Correct Prediction / Total Item: 34 / 37\n",
      "Accuracy: 91.89%\n"
     ]
    }
   ],
   "source": [
    "df_curie = run_for_model(df, \"text-curie-001\")"
   ]
  },
  {
   "attachments": {},
   "cell_type": "markdown",
   "metadata": {},
   "source": [
    "### text-babbage-001"
   ]
  },
  {
   "cell_type": "code",
   "execution_count": 8,
   "metadata": {},
   "outputs": [
    {
     "name": "stdout",
     "output_type": "stream",
     "text": [
      "\n",
      "Correct Prediction / Total Item: 14 / 37\n",
      "Accuracy: 37.84%\n"
     ]
    }
   ],
   "source": [
    "df_babbage = run_for_model(df, \"text-babbage-001\")"
   ]
  },
  {
   "attachments": {},
   "cell_type": "markdown",
   "metadata": {},
   "source": [
    "### text-ada-001"
   ]
  },
  {
   "cell_type": "code",
   "execution_count": 9,
   "metadata": {},
   "outputs": [
    {
     "name": "stdout",
     "output_type": "stream",
     "text": [
      "\n",
      "Correct Prediction / Total Item: 0 / 37\n",
      "Accuracy: 0.00%\n"
     ]
    }
   ],
   "source": [
    "df_ada = run_for_model(df, \"text-ada-001\")"
   ]
  },
  {
   "cell_type": "markdown",
   "metadata": {},
   "source": [
    "## Display Predictions"
   ]
  },
  {
   "cell_type": "code",
   "execution_count": 10,
   "metadata": {
    "scrolled": false
   },
   "outputs": [],
   "source": [
    "def show_predictions(df):\n",
    "    for i,row in df.iterrows():\n",
    "        sign = \"✅\" if row.correct else \"❌\"\n",
    "        print(f\"Text: {row.text}\")\n",
    "        print(f\"Prediction: {row.prediction}\")    \n",
    "        print(f\"True Label: {row.label} {sign}\\n\")"
   ]
  },
  {
   "cell_type": "code",
   "execution_count": 11,
   "metadata": {},
   "outputs": [
    {
     "name": "stdout",
     "output_type": "stream",
     "text": [
      "Text: De toute façon t’es qu’un sale juif t’aurais du mourir en 45\n",
      "Prediction: ['Racisme', 'Insulte (et Discrimination)']\n",
      "True Label: Racisme ✅\n",
      "\n",
      "Text: Au pire retourne à la mosquée sale arabe\n",
      "Prediction: ['Racisme', 'Insulte (et Discrimination)']\n",
      "True Label: Racisme ✅\n",
      "\n",
      "Text: C’est pas l’heure d’aller bouffer des chenilles avec tes 29 femmes le négro ?\n",
      "Prediction: ['Racisme', 'Insulte (et Discrimination)', 'Sexisme']\n",
      "True Label: Racisme ✅\n",
      "\n",
      "Text: Oh mon Dieu, je n’avais pas vu un Juif courir comme ça depuis les soldes du salon du cuir\n",
      "Prediction: ['Racisme']\n",
      "True Label: Racisme ✅\n",
      "\n",
      "Text: Mais nan j’irai pas en enfer j’suis pas black\n",
      "Prediction: ['Racisme']\n",
      "True Label: Racisme ✅\n",
      "\n",
      "Text: Pour vous les juifs le paradis c’est de trouver un cheveu dans votre soupe au resto pour vous faire rembourser\n",
      "Prediction: ['Racisme', 'Insulte (et Discrimination)']\n",
      "True Label: Racisme ✅\n",
      "\n",
      "Text: Est-ce qu'on peut se débarrasser de tous les Mexicains ?\n",
      "Prediction: ['Racisme']\n",
      "True Label: Racisme ✅\n",
      "\n",
      "Text: Sale bouffeur de chien\n",
      "Prediction: ['Insulte (et Discrimination)']\n",
      "True Label: Racisme ❌\n",
      "\n",
      "Text: J’mange jamais de nems j’veux pas attraper l’covid\n",
      "Prediction: []\n",
      "True Label: Racisme ❌\n",
      "\n",
      "Text: T’es quand même un sacré fils de pute\n",
      "Prediction: ['Insulte (et Discrimination)']\n",
      "True Label: Insulte (et Discrimination) ✅\n",
      "\n",
      "Text: J’ai jamais vu un trou du cul pareil\n",
      "Prediction: ['Insulte (et Discrimination)']\n",
      "True Label: Insulte (et Discrimination) ✅\n",
      "\n",
      "Text: Mais quel connard\n",
      "Prediction: ['Insulte (et Discrimination)']\n",
      "True Label: Insulte (et Discrimination) ✅\n",
      "\n",
      "Text: T’es un raté de la vie\n",
      "Prediction: ['Insulte (et Discrimination)']\n",
      "True Label: Insulte (et Discrimination) ✅\n",
      "\n",
      "Text: En plus d’être une merde tu es un gros lard\n",
      "Prediction: ['Insulte (et Discrimination)']\n",
      "True Label: Insulte (et Discrimination) ✅\n",
      "\n",
      "Text: Sale pd va\n",
      "Prediction: ['Insulte (et Discrimination)']\n",
      "True Label: Insulte (et Discrimination) ✅\n",
      "\n",
      "Text: je croyais que les enfants handicapés avaient été créées par Dieu pour m’amuser\n",
      "Prediction: ['Racisme', 'Insulte (et Discrimination)']\n",
      "True Label: Insulte (et Discrimination) ✅\n",
      "\n",
      "Text: Les films indépendants c’est toujours des histoires de cow-boys PD qui mangent du pudding\n",
      "Prediction: []\n",
      "True Label: Insulte (et Discrimination) ❌\n",
      "\n",
      "Text: J’adore montrer ma grosse queue\n",
      "Prediction: ['Sexualité explicite']\n",
      "True Label: Obscénité ❌\n",
      "\n",
      "Text: Suce ma bite sale pd\n",
      "Prediction: ['Insulte (et Discrimination)']\n",
      "True Label: Obscénité ❌\n",
      "\n",
      "Text: J’te démonte\n",
      "Prediction: ['Menace']\n",
      "True Label: Obscénité ❌\n",
      "\n",
      "Text: J’vais t’enculer à sec\n",
      "Prediction: []\n",
      "True Label: Obscénité ❌\n",
      "\n",
      "Text: Je vais te violer connasse\n",
      "Prediction: []\n",
      "True Label: Sexualité explicite ❌\n",
      "\n",
      "Text: Ecarte les cuisses cochonne\n",
      "Prediction: ['Insulte (et Discrimination)']\n",
      "True Label: Sexualité explicite ❌\n",
      "\n",
      "Text: Je vais te bouffer la chatte\n",
      "Prediction: []\n",
      "True Label: Sexualité explicite ❌\n",
      "\n",
      "Text: Si le paradis est un garçon de huit ans et que l’échelle c’est ma bite, alors je veux bien y croire !\n",
      "Prediction: []\n",
      "True Label: Sexualité explicite ❌\n",
      "\n",
      "Text: J’vais démarrer tes grands morts\n",
      "Prediction: ['Menace']\n",
      "True Label: Menace ✅\n",
      "\n",
      "Text: J’vais te trace IP et t’ouvrir la gorge\n",
      "Prediction: ['Menace']\n",
      "True Label: Menace ✅\n",
      "\n",
      "Text: Suicide toi\n",
      "Prediction: ['Menace']\n",
      "True Label: Menace ✅\n",
      "\n",
      "Text: l2p\n",
      "Prediction: ['Insulte (et Discrimination)']\n",
      "True Label: Toxicité ❌\n",
      "\n",
      "Text: ggez\n",
      "Prediction: ['Insulte (et Discrimination)']\n",
      "True Label: Toxicité ❌\n",
      "\n",
      "Text: Ma maman dit que Dieu déteste les homosexuels c’est pour ça qu’il a envoyé tous les sodomites en France.\n",
      "Prediction: ['Racisme', 'Insulte (et Discrimination)', 'Sexisme']\n",
      "True Label: Toxicité ❌\n",
      "\n",
      "Text: Retourne à la cuisine\n",
      "Prediction: ['Insulte (et Discrimination)']\n",
      "True Label: Sexisme ❌\n",
      "\n",
      "Text: Ta gueule conasse, toi tu fermes ta gueule et tu fais des mômes\n",
      "Prediction: ['Insulte (et Discrimination)']\n",
      "True Label: Sexisme ❌\n",
      "\n",
      "Text: T’as tes règles ?\n",
      "Prediction: ['Sexualité explicite']\n",
      "True Label: Sexisme ❌\n",
      "\n",
      "Text: Hey ! Toi tu t’écrases pétasse, retourne dans ta cuisine et fais-moi à bouffer\n",
      "Prediction: ['Insulte (et Discrimination) et Sexisme']\n",
      "True Label: Sexisme ❌\n",
      "\n",
      "Text: Je n’ai aucune confiance en des êtres qui peuvent saigner 5 jours sans en crever.\n",
      "Prediction: ['Insulte (et Discrimination)']\n",
      "True Label: Sexisme ❌\n",
      "\n",
      "Text: Aaahh ! Quand une gonzesse dit « faut qu’on parle », tu peux carrément commencer à te latter les couilles tout seul !\n",
      "Prediction: ['Insulte (et Discrimination)', 'Obscénité', 'Sexualité explicite', 'Sexisme']\n",
      "True Label: Sexisme ✅\n",
      "\n"
     ]
    }
   ],
   "source": [
    "show_predictions(df_davinci)"
   ]
  },
  {
   "cell_type": "markdown",
   "metadata": {},
   "source": [
    "## Custom Sentences: Neutral Performance"
   ]
  },
  {
   "cell_type": "code",
   "execution_count": 12,
   "metadata": {},
   "outputs": [],
   "source": [
    "def evaluate_sentences(sentences, model):\n",
    "    for sentence in sentences:\n",
    "        label = classify_text(sentence, model=model)\n",
    "        print(f\"Text: {sentence}\")\n",
    "        print(f\"Prediction: {label}\\n\")"
   ]
  },
  {
   "cell_type": "code",
   "execution_count": 13,
   "metadata": {},
   "outputs": [],
   "source": [
    "sentences = [\n",
    "    \"J'ai adoré la vidéo, continuez comme ça. Je suis déjà abonné.\",\n",
    "    \"La vidéo était mauvaise. Je ne l'aime pas.\",\n",
    "    \"Les immigrés vivent avec nous dans notre pays.\",\n",
    "    \"Je ne suis pas d'accord avec ce que vous dites. Je pense qu'une autre solution peut être trouvée.\"\n",
    "]"
   ]
  },
  {
   "cell_type": "markdown",
   "metadata": {},
   "source": [
    "### text-curie-001"
   ]
  },
  {
   "cell_type": "code",
   "execution_count": 14,
   "metadata": {},
   "outputs": [
    {
     "name": "stdout",
     "output_type": "stream",
     "text": [
      "Text: J'ai adoré la vidéo, continuez comme ça. Je suis déjà abonné.\n",
      "Prediction: ['Racisme', 'Insulte (et Discrimination)', 'Obscénité', 'Sexualité explicite', 'Menace', 'Toxicité', 'Sexisme']\n",
      "\n",
      "Text: La vidéo était mauvaise. Je ne l'aime pas.\n",
      "Prediction: ['Racisme', 'Insulte (et Discrimination)', 'Obscénité', 'Sexualité explicite', 'Menace', 'Toxicité', 'Sexisme']\n",
      "\n",
      "Text: Les immigrés vivent avec nous dans notre pays.\n",
      "Prediction: ['Racisme', 'Insulte (et Discrimination)', 'Obscénité', 'Sexualité explicite', 'Menace', 'Toxicité', 'Sexisme']\n",
      "\n",
      "Text: Je ne suis pas d'accord avec ce que vous dites. Je pense qu'une autre solution peut être trouvée.\n",
      "Prediction: ['Racisme', 'Insulte (et Discrimination)', 'Obscénité', 'Sexualité explicite', 'Menace', 'Toxicité', 'Sexisme']\n",
      "\n"
     ]
    }
   ],
   "source": [
    "evaluate_sentences(sentences, \"text-curie-001\")"
   ]
  },
  {
   "cell_type": "markdown",
   "metadata": {},
   "source": [
    "### text-ada-001"
   ]
  },
  {
   "cell_type": "code",
   "execution_count": 15,
   "metadata": {},
   "outputs": [
    {
     "name": "stdout",
     "output_type": "stream",
     "text": [
      "Text: J'ai adoré la vidéo, continuez comme ça. Je suis déjà abonné.\n",
      "Prediction: ['\"', '', 'Please classify the following text as one or multiple of the above categories:', '', '\"Je t\\'aime', 'continuez de regarder cette vidéo']\n",
      "\n",
      "Text: La vidéo était mauvaise. Je ne l'aime pas.\n",
      "Prediction: [\"Je ne l'aime pas\"]\n",
      "\n",
      "Text: Les immigrés vivent avec nous dans notre pays.\n",
      "Prediction: ['\"', '\"Nous sommes allés beaucoup et beaucoup de choses', 'beaucoup']\n",
      "\n",
      "Text: Je ne suis pas d'accord avec ce que vous dites. Je pense qu'une autre solution peut être trouvée.\n",
      "Prediction: [\"Je pense qu'une autre solution peut être trouvée\"]\n",
      "\n"
     ]
    }
   ],
   "source": [
    "evaluate_sentences(sentences, \"text-ada-001\")"
   ]
  },
  {
   "cell_type": "markdown",
   "metadata": {},
   "source": [
    "### text-davinci-003"
   ]
  },
  {
   "cell_type": "code",
   "execution_count": 16,
   "metadata": {},
   "outputs": [
    {
     "name": "stdout",
     "output_type": "stream",
     "text": [
      "Text: J'ai adoré la vidéo, continuez comme ça. Je suis déjà abonné.\n",
      "Prediction: []\n",
      "\n",
      "Text: La vidéo était mauvaise. Je ne l'aime pas.\n",
      "Prediction: []\n",
      "\n",
      "Text: Les immigrés vivent avec nous dans notre pays.\n",
      "Prediction: []\n",
      "\n",
      "Text: Je ne suis pas d'accord avec ce que vous dites. Je pense qu'une autre solution peut être trouvée.\n",
      "Prediction: []\n",
      "\n"
     ]
    }
   ],
   "source": [
    "evaluate_sentences(sentences, \"text-davinci-003\")"
   ]
  },
  {
   "cell_type": "markdown",
   "metadata": {},
   "source": [
    "## Custom Sentences: Difficult Examples"
   ]
  },
  {
   "cell_type": "code",
   "execution_count": 17,
   "metadata": {},
   "outputs": [],
   "source": [
    "sentences = [\n",
    "    \"Je pense que les immigrés ne devraient pas exister dans notre pays.\",    \n",
    "    \"Je ne suis pas d'accord avec votre opinion, je pense que c'est ridicule.\",\n",
    "    \"Je ne suis pas d'accord avec ton opinion, je pense que c'est ridicule, mais je te respecte quand même.\",\n",
    "    \"Les hommes peuvent faire des travaux plus difficiles que les femmes.\",\n",
    "    \"La présence des femmes dans le monde du travail est importante.\",\n",
    "    \"Je n'ai pas du tout aimé la vidéo, mais bonne chance.\"\n",
    "]"
   ]
  },
  {
   "attachments": {},
   "cell_type": "markdown",
   "metadata": {},
   "source": [
    "### text-curie-001"
   ]
  },
  {
   "cell_type": "code",
   "execution_count": 18,
   "metadata": {},
   "outputs": [
    {
     "name": "stdout",
     "output_type": "stream",
     "text": [
      "Text: Je pense que les immigrés ne devraient pas exister dans notre pays.\n",
      "Prediction: ['Racisme']\n",
      "\n",
      "Text: Je ne suis pas d'accord avec votre opinion, je pense que c'est ridicule.\n",
      "Prediction: ['Racisme', 'Insulte (et Discrimination)', 'Obscénité', 'Sexualité explicite', 'Menace', 'Toxicité', 'Sexisme']\n",
      "\n",
      "Text: Je ne suis pas d'accord avec ton opinion, je pense que c'est ridicule, mais je te respecte quand même.\n",
      "Prediction: ['Racisme', 'Insulte (et Discrimination)', 'Obscénité', 'Sexualité explicite', 'Menace', 'Toxicité', 'Sexisme']\n",
      "\n",
      "Text: Les hommes peuvent faire des travaux plus difficiles que les femmes.\n",
      "Prediction: ['Racisme', 'Insulte (et Discrimination)', 'Obscénité', 'Sexualité explicite', 'Menace', 'Toxicité', 'Sexisme']\n",
      "\n",
      "Text: La présence des femmes dans le monde du travail est importante.\n",
      "Prediction: ['Insulte: Les femmes ne sont pas assez nombreuses dans le monde du travail']\n",
      "\n",
      "Text: Je n'ai pas du tout aimé la vidéo, mais bonne chance.\n",
      "Prediction: ['Racisme', 'Insulte (et Discrimination)', 'Obscénité', 'Sexualité explicite', 'Menace', 'Toxicité', 'Sexisme']\n",
      "\n"
     ]
    }
   ],
   "source": [
    "evaluate_sentences(sentences, \"text-curie-001\")"
   ]
  },
  {
   "cell_type": "markdown",
   "metadata": {},
   "source": [
    "### text-ada-001"
   ]
  },
  {
   "cell_type": "code",
   "execution_count": 19,
   "metadata": {},
   "outputs": [
    {
     "name": "stdout",
     "output_type": "stream",
     "text": [
      "Text: Je pense que les immigrés ne devraient pas exister dans notre pays.\n",
      "Prediction: ['\"', '', 'Please classify the following text as one or multiple of the above categories:', '', '\"Je pense que les immigrés ne devraient pas exister dans notre']\n",
      "\n",
      "Text: Je ne suis pas d'accord avec votre opinion, je pense que c'est ridicule.\n",
      "Prediction: ['\"']\n",
      "\n",
      "Text: Je ne suis pas d'accord avec ton opinion, je pense que c'est ridicule, mais je te respecte quand même.\n",
      "Prediction: ['\"']\n",
      "\n",
      "Text: Les hommes peuvent faire des travaux plus difficiles que les femmes.\n",
      "Prediction: ['\"', '', 'Please classify the following text as one or multiple of the above categories:', '', '\"Les hommes peuvent faire des travaux plus difficiles que les fem']\n",
      "\n",
      "Text: La présence des femmes dans le monde du travail est importante.\n",
      "Prediction: ['\"', '\"Le racisme est-']\n",
      "\n",
      "Text: Je n'ai pas du tout aimé la vidéo, mais bonne chance.\n",
      "Prediction: ['\"']\n",
      "\n"
     ]
    }
   ],
   "source": [
    "evaluate_sentences(sentences, \"text-ada-001\")"
   ]
  },
  {
   "cell_type": "markdown",
   "metadata": {},
   "source": [
    "### text-davinci-001"
   ]
  },
  {
   "cell_type": "code",
   "execution_count": 20,
   "metadata": {},
   "outputs": [
    {
     "name": "stdout",
     "output_type": "stream",
     "text": [
      "Text: Je pense que les immigrés ne devraient pas exister dans notre pays.\n",
      "Prediction: ['Racisme']\n",
      "\n",
      "Text: Je ne suis pas d'accord avec votre opinion, je pense que c'est ridicule.\n",
      "Prediction: []\n",
      "\n",
      "Text: Je ne suis pas d'accord avec ton opinion, je pense que c'est ridicule, mais je te respecte quand même.\n",
      "Prediction: []\n",
      "\n",
      "Text: Les hommes peuvent faire des travaux plus difficiles que les femmes.\n",
      "Prediction: ['Sexisme']\n",
      "\n",
      "Text: La présence des femmes dans le monde du travail est importante.\n",
      "Prediction: []\n",
      "\n",
      "Text: Je n'ai pas du tout aimé la vidéo, mais bonne chance.\n",
      "Prediction: []\n",
      "\n"
     ]
    }
   ],
   "source": [
    "evaluate_sentences(sentences, \"text-davinci-003\")"
   ]
  }
 ],
 "metadata": {
  "kernelspec": {
   "display_name": ".venv",
   "language": "python",
   "name": "python3"
  },
  "language_info": {
   "codemirror_mode": {
    "name": "ipython",
    "version": 3
   },
   "file_extension": ".py",
   "mimetype": "text/x-python",
   "name": "python",
   "nbconvert_exporter": "python",
   "pygments_lexer": "ipython3",
   "version": "3.11.1"
  },
  "vscode": {
   "interpreter": {
    "hash": "36565e3001561d0093064d4299eced113bf3b78317d99ab61a4f57cfeeb4a13d"
   }
  }
 },
 "nbformat": 4,
 "nbformat_minor": 2
}
