{
 "cells": [
  {
   "cell_type": "markdown",
   "metadata": {},
   "source": [
    "# OpenAI proof-of-concept with labels merged\n",
    "\n",
    "Demonstrating the use of the OpenAI API to analyse text toxicity and cyberbullying.\n",
    "\n",
    "https://openai.com/api/\n",
    "\n",
    "We are merging some labels to increase the performance.\n",
    "\n",
    "Labels we have currently:\n",
    "```\n",
    "1. Racisme\n",
    "2. Insulte (et Discrimination)\n",
    "3. Obscénité\n",
    "4. Sexualité explicite\n",
    "5. Menace\n",
    "6. Toxicité\n",
    "7. Sexisme\n",
    "```\n",
    "**Suggestion:** We may merge some of them and group into 5:\n",
    "```\n",
    "1. Insult or Discrimination (Racisme + Insulte (et Discrimination))\n",
    "2. Obscene or Sexual (Obscénité + Sexualité explicite)\n",
    "3. Threats of Violence (Menace)\n",
    "4. Cyberbullying or Toxic (Toxicité)\n",
    "5. Insult or Discrimination (Sexisme)\n",
    "```"
   ]
  },
  {
   "cell_type": "code",
   "execution_count": 1,
   "metadata": {},
   "outputs": [],
   "source": [
    "import os\n",
    "import time\n",
    "import openai\n",
    "import pandas as pd\n",
    "from tqdm import tqdm"
   ]
  },
  {
   "cell_type": "code",
   "execution_count": 2,
   "metadata": {},
   "outputs": [],
   "source": [
    "openai.api_key = os.getenv(\"OPENAI_API_KEY\")"
   ]
  },
  {
   "cell_type": "code",
   "execution_count": 3,
   "metadata": {},
   "outputs": [],
   "source": [
    "def classify_text(input_text, retry=0):\n",
    "    prompt = f\"\"\"The following is a list of text categories in French:\n",
    "\n",
    "    1. Insult or Discrimination\n",
    "    2. Obscene or Sexual\n",
    "    3. Threats of Violence\n",
    "    4. Cyberbullying or Toxic\n",
    "\n",
    "    Please classify the following text as one of the above categories:\n",
    "    \"{input_text}\"\n",
    "    \"\"\"\n",
    "    \n",
    "    # Get Prediction from OpenAI\n",
    "    try:\n",
    "        response = openai.Completion.create(\n",
    "          model=\"text-davinci-003\",\n",
    "          prompt=prompt,\n",
    "          temperature=0,\n",
    "          max_tokens=20,\n",
    "          top_p=1.0,\n",
    "          frequency_penalty=0.0,\n",
    "          presence_penalty=0.0\n",
    "        )\n",
    "    except Exception as e:\n",
    "        if retry < 3:\n",
    "            print(\"Error on classification. Retrying in 5 sec \",e)\n",
    "            time.sleep(5)\n",
    "            return classify_text(input_text, retry= retry+1)\n",
    "        else:\n",
    "            print(\"Error on classification. Reached retry limit \",e)\n",
    "            return None\n",
    "    \n",
    "    # Parse Response\n",
    "    label = response[\"choices\"][0].text.strip()\n",
    "    if \".\" in label:\n",
    "        # Sometimes openai returns response as 1.Racisme\n",
    "        label = label.split(\".\")[1].strip()\n",
    "    \n",
    "    if not label:\n",
    "        label = None\n",
    "    return label"
   ]
  },
  {
   "cell_type": "markdown",
   "metadata": {},
   "source": [
    "## Prepare Data"
   ]
  },
  {
   "cell_type": "code",
   "execution_count": 4,
   "metadata": {},
   "outputs": [
    {
     "name": "stdout",
     "output_type": "stream",
     "text": [
      "Classes \n",
      " ['Insult or Discrimination' 'Obscene or Sexual' 'Threats of Violence'\n",
      " 'Cyberbullying or Toxic']\n"
     ]
    }
   ],
   "source": [
    "# Read Data\n",
    "df = pd.read_csv(\"safebear_data.csv\")\n",
    "df.label = df.label.replace({\n",
    "    \"Racisme\":\"Insult or Discrimination\",\n",
    "    \"Insulte (et Discrimination)\":\"Insult or Discrimination\",\n",
    "    \"Obscénité\":\"Obscene or Sexual\",\n",
    "    \"Sexualité explicite\":\"Obscene or Sexual\",\n",
    "    \"Menace\":\"Threats of Violence\",\n",
    "    \"Toxicité\":\"Cyberbullying or Toxic\",\n",
    "    \"Sexisme\":\"Insult or Discrimination\"\n",
    "})\n",
    "print(\"Classes \\n\",df.label.unique())"
   ]
  },
  {
   "cell_type": "code",
   "execution_count": null,
   "metadata": {},
   "outputs": [],
   "source": []
  },
  {
   "cell_type": "code",
   "execution_count": 5,
   "metadata": {
    "scrolled": false
   },
   "outputs": [],
   "source": [
    "# Generate Predictions\n",
    "predictions = []\n",
    "for i,row in df.iterrows():\n",
    "    predictions.append(classify_text(row.text))\n",
    "    # to avoid ratelimiterror\n",
    "    time.sleep(2)\n",
    "        \n",
    "df['prediction'] = predictions\n",
    "df['correct'] = (df.label == df.prediction)"
   ]
  },
  {
   "cell_type": "markdown",
   "metadata": {},
   "source": [
    "## Accuracy"
   ]
  },
  {
   "cell_type": "code",
   "execution_count": 6,
   "metadata": {},
   "outputs": [
    {
     "name": "stdout",
     "output_type": "stream",
     "text": [
      "Correct Prediction / Total Item: 28 / 37\n",
      "Accuracy: 75.68%\n"
     ]
    }
   ],
   "source": [
    "accuracy = df['correct'].sum() / len(df) * 100\n",
    "print(f\"Correct Prediction / Total Item: {df['correct'].sum()} / {len(df)}\")\n",
    "print(f\"Accuracy: {accuracy:.2f}%\")"
   ]
  },
  {
   "cell_type": "markdown",
   "metadata": {},
   "source": [
    "## Display Predictions"
   ]
  },
  {
   "cell_type": "code",
   "execution_count": 7,
   "metadata": {
    "scrolled": false
   },
   "outputs": [
    {
     "name": "stdout",
     "output_type": "stream",
     "text": [
      "Text: De toute façon t’es qu’un sale juif t’aurais du mourir en 45\n",
      "Prediction: Insult or Discrimination\n",
      "True Label: Insult or Discrimination ✅\n",
      "\n",
      "Text: Au pire retourne à la mosquée sale arabe\n",
      "Prediction: Insult or Discrimination\n",
      "True Label: Insult or Discrimination ✅\n",
      "\n",
      "Text: C’est pas l’heure d’aller bouffer des chenilles avec tes 29 femmes le négro ?\n",
      "Prediction: Insult or Discrimination\n",
      "True Label: Insult or Discrimination ✅\n",
      "\n",
      "Text: Oh mon Dieu, je n’avais pas vu un Juif courir comme ça depuis les soldes du salon du cuir\n",
      "Prediction: Insult or Discrimination\n",
      "True Label: Insult or Discrimination ✅\n",
      "\n",
      "Text: Mais nan j’irai pas en enfer j’suis pas black\n",
      "Prediction: Insult or Discrimination\n",
      "True Label: Insult or Discrimination ✅\n",
      "\n",
      "Text: Pour vous les juifs le paradis c’est de trouver un cheveu dans votre soupe au resto pour vous faire rembourser\n",
      "Prediction: Insult or Discrimination\n",
      "True Label: Insult or Discrimination ✅\n",
      "\n",
      "Text: Est-ce qu'on peut se débarrasser de tous les Mexicains ?\n",
      "Prediction: Insult or Discrimination\n",
      "True Label: Insult or Discrimination ✅\n",
      "\n",
      "Text: Sale bouffeur de chien\n",
      "Prediction: Insult or Discrimination\n",
      "True Label: Insult or Discrimination ✅\n",
      "\n",
      "Text: J’mange jamais de nems j’veux pas attraper l’covid\n",
      "Prediction: None of the Above\n",
      "True Label: Insult or Discrimination ❌\n",
      "\n",
      "Text: T’es quand même un sacré fils de pute\n",
      "Prediction: Insult or Discrimination\n",
      "True Label: Insult or Discrimination ✅\n",
      "\n",
      "Text: J’ai jamais vu un trou du cul pareil\n",
      "Prediction: Insult or Discrimination\n",
      "True Label: Insult or Discrimination ✅\n",
      "\n",
      "Text: Mais quel connard\n",
      "Prediction: Insult or Discrimination\n",
      "True Label: Insult or Discrimination ✅\n",
      "\n",
      "Text: T’es un raté de la vie\n",
      "Prediction: Insult or Discrimination\n",
      "True Label: Insult or Discrimination ✅\n",
      "\n",
      "Text: En plus d’être une merde tu es un gros lard\n",
      "Prediction: Insult or Discrimination\n",
      "True Label: Insult or Discrimination ✅\n",
      "\n",
      "Text: Sale pd va\n",
      "Prediction: Insult or Discrimination\n",
      "True Label: Insult or Discrimination ✅\n",
      "\n",
      "Text: je croyais que les enfants handicapés avaient été créées par Dieu pour m’amuser\n",
      "Prediction: Insult or Discrimination\n",
      "True Label: Insult or Discrimination ✅\n",
      "\n",
      "Text: Les films indépendants c’est toujours des histoires de cow-boys PD qui mangent du pudding\n",
      "Prediction: None of the Above\n",
      "True Label: Insult or Discrimination ❌\n",
      "\n",
      "Text: J’adore montrer ma grosse queue\n",
      "Prediction: Obscene or Sexual\n",
      "True Label: Obscene or Sexual ✅\n",
      "\n",
      "Text: Suce ma bite sale pd\n",
      "Prediction: Obscene or Sexual\n",
      "True Label: Obscene or Sexual ✅\n",
      "\n",
      "Text: J’te démonte\n",
      "Prediction: Threats of Violence\n",
      "True Label: Obscene or Sexual ❌\n",
      "\n",
      "Text: J’vais t’enculer à sec\n",
      "Prediction: Obscene or Sexual\n",
      "True Label: Obscene or Sexual ✅\n",
      "\n",
      "Text: Je vais te violer connasse\n",
      "Prediction: Threats of Violence\n",
      "True Label: Obscene or Sexual ❌\n",
      "\n",
      "Text: Ecarte les cuisses cochonne\n",
      "Prediction: Obscene or Sexual\n",
      "True Label: Obscene or Sexual ✅\n",
      "\n",
      "Text: Je vais te bouffer la chatte\n",
      "Prediction: Obscene or Sexual\n",
      "True Label: Obscene or Sexual ✅\n",
      "\n",
      "Text: Si le paradis est un garçon de huit ans et que l’échelle c’est ma bite, alors je veux bien y croire !\n",
      "Prediction: Obscene or Sexual\n",
      "True Label: Obscene or Sexual ✅\n",
      "\n",
      "Text: J’vais démarrer tes grands morts\n",
      "Prediction: Threats of Violence\n",
      "True Label: Threats of Violence ✅\n",
      "\n",
      "Text: J’vais te trace IP et t’ouvrir la gorge\n",
      "Prediction: Threats of Violence\n",
      "True Label: Threats of Violence ✅\n",
      "\n",
      "Text: Suicide toi\n",
      "Prediction: Threats of Violence\n",
      "True Label: Threats of Violence ✅\n",
      "\n",
      "Text: l2p\n",
      "Prediction: Cyberbullying or Toxic\n",
      "True Label: Cyberbullying or Toxic ✅\n",
      "\n",
      "Text: ggez\n",
      "Prediction: Insult or Discrimination\n",
      "True Label: Cyberbullying or Toxic ❌\n",
      "\n",
      "Text: Ma maman dit que Dieu déteste les homosexuels c’est pour ça qu’il a envoyé tous les sodomites en France.\n",
      "Prediction: Insult or Discrimination\n",
      "True Label: Cyberbullying or Toxic ❌\n",
      "\n",
      "Text: Retourne à la cuisine\n",
      "Prediction: Insult or Discrimination\n",
      "True Label: Insult or Discrimination ✅\n",
      "\n",
      "Text: Ta gueule conasse, toi tu fermes ta gueule et tu fais des mômes\n",
      "Prediction: Insult or Discrimination\n",
      "True Label: Insult or Discrimination ✅\n",
      "\n",
      "Text: T’as tes règles ?\n",
      "Prediction: Obscene or Sexual\n",
      "True Label: Insult or Discrimination ❌\n",
      "\n",
      "Text: Hey ! Toi tu t’écrases pétasse, retourne dans ta cuisine et fais-moi à bouffer\n",
      "Prediction: Insult or Discrimination\n",
      "True Label: Insult or Discrimination ✅\n",
      "\n",
      "Text: Je n’ai aucune confiance en des êtres qui peuvent saigner 5 jours sans en crever.\n",
      "Prediction: None of the Above\n",
      "True Label: Insult or Discrimination ❌\n",
      "\n",
      "Text: Aaahh ! Quand une gonzesse dit « faut qu’on parle », tu peux carrément commencer à te latter les couilles tout seul !\n",
      "Prediction: Obscene or Sexual\n",
      "True Label: Insult or Discrimination ❌\n",
      "\n"
     ]
    }
   ],
   "source": [
    "for i,row in df.iterrows():\n",
    "    sign = \"✅\" if row.correct else \"❌\"\n",
    "    print(f\"Text: {row.text}\")\n",
    "    print(f\"Prediction: {row.prediction}\")    \n",
    "    print(f\"True Label: {row.label} {sign}\\n\")"
   ]
  },
  {
   "cell_type": "markdown",
   "metadata": {},
   "source": [
    "## Custom Sentences: Neutral Performance"
   ]
  },
  {
   "cell_type": "code",
   "execution_count": 8,
   "metadata": {},
   "outputs": [
    {
     "name": "stdout",
     "output_type": "stream",
     "text": [
      "Text: J'ai adoré la vidéo, continuez comme ça. Je suis déjà abonné.\n",
      "Prediction: None of the Above\n",
      "\n",
      "Text: La vidéo était mauvaise. Je ne l'aime pas.\n",
      "Prediction: None of the Above\n",
      "\n",
      "Text: Les immigrés vivent avec nous dans notre pays.\n",
      "Prediction: None of the Above\n",
      "\n",
      "Text: Je ne suis pas d'accord avec ce que vous dites. Je pense qu'une autre solution peut être trouvée.\n",
      "Prediction: None of the Above\n",
      "\n"
     ]
    }
   ],
   "source": [
    "sentences = [\n",
    "    \"J'ai adoré la vidéo, continuez comme ça. Je suis déjà abonné.\",\n",
    "    \"La vidéo était mauvaise. Je ne l'aime pas.\",\n",
    "    \"Les immigrés vivent avec nous dans notre pays.\",\n",
    "    \"Je ne suis pas d'accord avec ce que vous dites. Je pense qu'une autre solution peut être trouvée.\"\n",
    "]\n",
    "for sentence in sentences:\n",
    "    label = classify_text(sentence)\n",
    "    print(f\"Text: {sentence}\")\n",
    "    print(f\"Prediction: {label}\\n\")"
   ]
  },
  {
   "cell_type": "markdown",
   "metadata": {},
   "source": [
    "## Custom Sentences: Difficult Examples"
   ]
  },
  {
   "cell_type": "code",
   "execution_count": 9,
   "metadata": {},
   "outputs": [
    {
     "name": "stdout",
     "output_type": "stream",
     "text": [
      "Text: Je pense que les immigrés ne devraient pas exister dans notre pays.\n",
      "Prediction: Insult or Discrimination\n",
      "\n",
      "Text: Je ne suis pas d'accord avec votre opinion, je pense que c'est ridicule.\n",
      "Prediction: None of the Above\n",
      "\n",
      "Text: Je ne suis pas d'accord avec ton opinion, je pense que c'est ridicule, mais je te respecte quand même.\n",
      "Prediction: None of the Above\n",
      "\n",
      "Text: Les hommes peuvent faire des travaux plus difficiles que les femmes.\n",
      "Prediction: None of the Above\n",
      "\n",
      "Text: La présence des femmes dans le monde du travail est importante.\n",
      "Prediction: None of the Above\n",
      "\n"
     ]
    }
   ],
   "source": [
    "sentences = [\n",
    "    \"Je pense que les immigrés ne devraient pas exister dans notre pays.\",    \n",
    "    \"Je ne suis pas d'accord avec votre opinion, je pense que c'est ridicule.\",\n",
    "    \"Je ne suis pas d'accord avec ton opinion, je pense que c'est ridicule, mais je te respecte quand même.\",\n",
    "    \"Les hommes peuvent faire des travaux plus difficiles que les femmes.\",\n",
    "    \"La présence des femmes dans le monde du travail est importante.\",\n",
    "]\n",
    "for sentence in sentences:\n",
    "    label = classify_text(sentence)\n",
    "    print(f\"Text: {sentence}\")\n",
    "    print(f\"Prediction: {label}\\n\")"
   ]
  },
  {
   "cell_type": "code",
   "execution_count": null,
   "metadata": {},
   "outputs": [],
   "source": []
  }
 ],
 "metadata": {
  "kernelspec": {
   "display_name": "Python 3 (ipykernel)",
   "language": "python",
   "name": "python3"
  },
  "language_info": {
   "codemirror_mode": {
    "name": "ipython",
    "version": 3
   },
   "file_extension": ".py",
   "mimetype": "text/x-python",
   "name": "python",
   "nbconvert_exporter": "python",
   "pygments_lexer": "ipython3",
   "version": "3.11.1"
  },
  "vscode": {
   "interpreter": {
    "hash": "f662668c4173f96eaa20b44b09c5d2482eb5f2dfaf42a6495657e2746e08f1cf"
   }
  }
 },
 "nbformat": 4,
 "nbformat_minor": 2
}
