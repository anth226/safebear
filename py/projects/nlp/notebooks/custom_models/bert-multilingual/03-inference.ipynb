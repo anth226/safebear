{
  "cells": [
    {
      "cell_type": "code",
      "execution_count": 1,
      "metadata": {
        "colab": {
          "base_uri": "https://localhost:8080/"
        },
        "id": "AFYIixznT5rD",
        "outputId": "5d9417e9-cbef-4a7d-c7e0-bbc703b91f7b"
      },
      "outputs": [
        {
          "name": "stdout",
          "output_type": "stream",
          "text": [
            "Mounted at /content/drive\n"
          ]
        }
      ],
      "source": [
        "from google.colab import drive\n",
        "drive.mount('/content/drive')\n"
      ]
    },
    {
      "cell_type": "markdown",
      "metadata": {
        "id": "zkirf13jG4qw"
      },
      "source": [
        "# Load Data"
      ]
    },
    {
      "cell_type": "code",
      "execution_count": 4,
      "metadata": {
        "colab": {
          "base_uri": "https://localhost:8080/",
          "height": 178
        },
        "id": "0rnETZvTG5xN",
        "outputId": "cac5f7ef-fa4e-4d32-a6fe-799a54b74e5d"
      },
      "outputs": [
        {
          "name": "stdout",
          "output_type": "stream",
          "text": [
            "Classes \n",
            " ['identity_hate' 'insult' 'obscene' 'threat' 'toxic']\n"
          ]
        },
        {
          "data": {
            "text/html": [
              "\n",
              "  <div id=\"df-91d2a3d0-67e1-40e9-ba51-2931cc57dc88\">\n",
              "    <div class=\"colab-df-container\">\n",
              "      <div>\n",
              "<style scoped>\n",
              "    .dataframe tbody tr th:only-of-type {\n",
              "        vertical-align: middle;\n",
              "    }\n",
              "\n",
              "    .dataframe tbody tr th {\n",
              "        vertical-align: top;\n",
              "    }\n",
              "\n",
              "    .dataframe thead th {\n",
              "        text-align: right;\n",
              "    }\n",
              "</style>\n",
              "<table border=\"1\" class=\"dataframe\">\n",
              "  <thead>\n",
              "    <tr style=\"text-align: right;\">\n",
              "      <th></th>\n",
              "      <th>text</th>\n",
              "      <th>label</th>\n",
              "    </tr>\n",
              "  </thead>\n",
              "  <tbody>\n",
              "    <tr>\n",
              "      <th>0</th>\n",
              "      <td>De toute façon t’es qu’un sale juif t’aurais d...</td>\n",
              "      <td>identity_hate</td>\n",
              "    </tr>\n",
              "    <tr>\n",
              "      <th>1</th>\n",
              "      <td>Au pire retourne à la mosquée sale arabe</td>\n",
              "      <td>identity_hate</td>\n",
              "    </tr>\n",
              "    <tr>\n",
              "      <th>2</th>\n",
              "      <td>C’est pas l’heure d’aller bouffer des chenille...</td>\n",
              "      <td>identity_hate</td>\n",
              "    </tr>\n",
              "  </tbody>\n",
              "</table>\n",
              "</div>\n",
              "      <button class=\"colab-df-convert\" onclick=\"convertToInteractive('df-91d2a3d0-67e1-40e9-ba51-2931cc57dc88')\"\n",
              "              title=\"Convert this dataframe to an interactive table.\"\n",
              "              style=\"display:none;\">\n",
              "        \n",
              "  <svg xmlns=\"http://www.w3.org/2000/svg\" height=\"24px\"viewBox=\"0 0 24 24\"\n",
              "       width=\"24px\">\n",
              "    <path d=\"M0 0h24v24H0V0z\" fill=\"none\"/>\n",
              "    <path d=\"M18.56 5.44l.94 2.06.94-2.06 2.06-.94-2.06-.94-.94-2.06-.94 2.06-2.06.94zm-11 1L8.5 8.5l.94-2.06 2.06-.94-2.06-.94L8.5 2.5l-.94 2.06-2.06.94zm10 10l.94 2.06.94-2.06 2.06-.94-2.06-.94-.94-2.06-.94 2.06-2.06.94z\"/><path d=\"M17.41 7.96l-1.37-1.37c-.4-.4-.92-.59-1.43-.59-.52 0-1.04.2-1.43.59L10.3 9.45l-7.72 7.72c-.78.78-.78 2.05 0 2.83L4 21.41c.39.39.9.59 1.41.59.51 0 1.02-.2 1.41-.59l7.78-7.78 2.81-2.81c.8-.78.8-2.07 0-2.86zM5.41 20L4 18.59l7.72-7.72 1.47 1.35L5.41 20z\"/>\n",
              "  </svg>\n",
              "      </button>\n",
              "      \n",
              "  <style>\n",
              "    .colab-df-container {\n",
              "      display:flex;\n",
              "      flex-wrap:wrap;\n",
              "      gap: 12px;\n",
              "    }\n",
              "\n",
              "    .colab-df-convert {\n",
              "      background-color: #E8F0FE;\n",
              "      border: none;\n",
              "      border-radius: 50%;\n",
              "      cursor: pointer;\n",
              "      display: none;\n",
              "      fill: #1967D2;\n",
              "      height: 32px;\n",
              "      padding: 0 0 0 0;\n",
              "      width: 32px;\n",
              "    }\n",
              "\n",
              "    .colab-df-convert:hover {\n",
              "      background-color: #E2EBFA;\n",
              "      box-shadow: 0px 1px 2px rgba(60, 64, 67, 0.3), 0px 1px 3px 1px rgba(60, 64, 67, 0.15);\n",
              "      fill: #174EA6;\n",
              "    }\n",
              "\n",
              "    [theme=dark] .colab-df-convert {\n",
              "      background-color: #3B4455;\n",
              "      fill: #D2E3FC;\n",
              "    }\n",
              "\n",
              "    [theme=dark] .colab-df-convert:hover {\n",
              "      background-color: #434B5C;\n",
              "      box-shadow: 0px 1px 3px 1px rgba(0, 0, 0, 0.15);\n",
              "      filter: drop-shadow(0px 1px 2px rgba(0, 0, 0, 0.3));\n",
              "      fill: #FFFFFF;\n",
              "    }\n",
              "  </style>\n",
              "\n",
              "      <script>\n",
              "        const buttonEl =\n",
              "          document.querySelector('#df-91d2a3d0-67e1-40e9-ba51-2931cc57dc88 button.colab-df-convert');\n",
              "        buttonEl.style.display =\n",
              "          google.colab.kernel.accessAllowed ? 'block' : 'none';\n",
              "\n",
              "        async function convertToInteractive(key) {\n",
              "          const element = document.querySelector('#df-91d2a3d0-67e1-40e9-ba51-2931cc57dc88');\n",
              "          const dataTable =\n",
              "            await google.colab.kernel.invokeFunction('convertToInteractive',\n",
              "                                                     [key], {});\n",
              "          if (!dataTable) return;\n",
              "\n",
              "          const docLinkHtml = 'Like what you see? Visit the ' +\n",
              "            '<a target=\"_blank\" href=https://colab.research.google.com/notebooks/data_table.ipynb>data table notebook</a>'\n",
              "            + ' to learn more about interactive tables.';\n",
              "          element.innerHTML = '';\n",
              "          dataTable['output_type'] = 'display_data';\n",
              "          await google.colab.output.renderOutput(dataTable, element);\n",
              "          const docLink = document.createElement('div');\n",
              "          docLink.innerHTML = docLinkHtml;\n",
              "          element.appendChild(docLink);\n",
              "        }\n",
              "      </script>\n",
              "    </div>\n",
              "  </div>\n",
              "  "
            ],
            "text/plain": [
              "                                                text          label\n",
              "0  De toute façon t’es qu’un sale juif t’aurais d...  identity_hate\n",
              "1           Au pire retourne à la mosquée sale arabe  identity_hate\n",
              "2  C’est pas l’heure d’aller bouffer des chenille...  identity_hate"
            ]
          },
          "execution_count": 4,
          "metadata": {},
          "output_type": "execute_result"
        }
      ],
      "source": [
        "# Read Data\n",
        "import pandas as pd\n",
        "df = pd.read_csv(\"safebear_data.csv\")\n",
        "df.label = df.label.replace({\n",
        "    \"Racisme\":\"identity_hate\",\n",
        "    \"Insulte (et Discrimination)\":\"insult\",\n",
        "    \"Obscénité\":\"obscene\",\n",
        "    \"Sexualité explicite\":\"obscene\",\n",
        "    \"Menace\":\"threat\",\n",
        "    \"Toxicité\":\"toxic\",\n",
        "    \"Sexisme\":\"toxic\"\n",
        "})\n",
        "print(\"Classes \\n\",df.label.unique())\n",
        "\n",
        "#['toxic','severe_toxic','obscene','threat','insult','identity_hate']\n",
        "df.head(3)"
      ]
    },
    {
      "cell_type": "markdown",
      "metadata": {
        "id": "-Az0SYilHTzT"
      },
      "source": [
        "# Load Model"
      ]
    },
    {
      "cell_type": "code",
      "execution_count": 5,
      "metadata": {
        "id": "BZiHgE9MUH6Z"
      },
      "outputs": [],
      "source": [
        "MODEL_PATH = './drive/MyDrive/ML/Nuage/jigsaw/models'"
      ]
    },
    {
      "cell_type": "code",
      "execution_count": 6,
      "metadata": {
        "id": "-uBNHxn-UFwO"
      },
      "outputs": [],
      "source": [
        "import os\n",
        "import pandas as pd\n",
        "from sklearn.model_selection import train_test_split\n",
        "\n",
        "from datasets import Dataset\n",
        "from transformers import DataCollatorWithPadding, Trainer, TrainingArguments\n",
        "from transformers import XLMRobertaTokenizer, XLMRobertaForSequenceClassification\n",
        "\n",
        "from transformers import AutoTokenizer, AutoModelForMaskedLM"
      ]
    },
    {
      "cell_type": "code",
      "execution_count": 23,
      "metadata": {
        "id": "8zu6EOQzT_En"
      },
      "outputs": [],
      "source": [
        "label_cols = ['toxic','severe_toxic','obscene','threat','insult','identity_hate']\n",
        "\n",
        "ROBERTA_MODEL = \"xlm-roberta-base\"\n",
        "tokenizer = AutoTokenizer.from_pretrained(ROBERTA_MODEL)\n",
        "model = XLMRobertaForSequenceClassification.from_pretrained(MODEL_PATH+\"/trained_v2\", num_labels=len(label_cols), problem_type=\"multi_label_classification\")\n",
        "\n",
        "#model.to('cpu');"
      ]
    },
    {
      "cell_type": "code",
      "execution_count": 24,
      "metadata": {
        "id": "hyunwIm5Uu3c"
      },
      "outputs": [],
      "source": [
        "from transformers import TextClassificationPipeline\n",
        "pipe = TextClassificationPipeline(model=model, tokenizer=tokenizer, return_all_scores=True)"
      ]
    },
    {
      "cell_type": "markdown",
      "metadata": {
        "id": "DXaky3yKHZpi"
      },
      "source": [
        "# Evaluate Data"
      ]
    },
    {
      "cell_type": "code",
      "execution_count": 25,
      "metadata": {
        "id": "b8Y6syiDH8pd"
      },
      "outputs": [],
      "source": [
        "def classify_text(text, return_scores=False):\n",
        "  pred = pipe(text)[0]\n",
        "  pred = [label for label in pred if label['score'] > 0.5]\n",
        "  if return_scores:\n",
        "    return pred\n",
        "\n",
        "  return[label['label'] for label in pred]"
      ]
    },
    {
      "cell_type": "code",
      "execution_count": 26,
      "metadata": {
        "id": "mHw5lm-zH63p"
      },
      "outputs": [],
      "source": [
        "# Generate Predictions\n",
        "predictions = []\n",
        "for i,row in df.iterrows():\n",
        "    predictions.append(classify_text(row.text))\n",
        "        \n",
        "df['prediction'] = predictions\n",
        "df['correct_multi'] = df.apply(lambda x: (x.label in x.prediction), axis=1)\n",
        "df['correct_binary'] = df.apply(lambda x: (len(x.prediction) > 0), axis=1)"
      ]
    },
    {
      "cell_type": "code",
      "execution_count": 27,
      "metadata": {
        "colab": {
          "base_uri": "https://localhost:8080/"
        },
        "id": "Su5UzK_TUVw8",
        "outputId": "b69446e5-561a-4142-ea15-6598f863111e"
      },
      "outputs": [
        {
          "name": "stdout",
          "output_type": "stream",
          "text": [
            "Multi Label:\n",
            "Correct Prediction / Total Item: 25 / 37\n",
            "Accuracy: 67.57%\n",
            "Binary:\n",
            "Correct Prediction / Total Item: 29 / 37\n",
            "Accuracy: 78.38%\n"
          ]
        }
      ],
      "source": [
        "print(\"Multi Label:\")\n",
        "accuracy = df['correct_multi'].sum() / len(df) * 100\n",
        "print(f\"Correct Prediction / Total Item: {df['correct_multi'].sum()} / {len(df)}\")\n",
        "print(f\"Accuracy: {accuracy:.2f}%\")\n",
        "\n",
        "print(\"Binary:\")\n",
        "accuracy = df['correct_binary'].sum() / len(df) * 100\n",
        "print(f\"Correct Prediction / Total Item: {df['correct_binary'].sum()} / {len(df)}\")\n",
        "print(f\"Accuracy: {accuracy:.2f}%\")\n"
      ]
    },
    {
      "cell_type": "code",
      "execution_count": 28,
      "metadata": {
        "colab": {
          "base_uri": "https://localhost:8080/"
        },
        "id": "UTZYah_CIyXu",
        "outputId": "74cd2d5d-5371-4eda-8d4f-d9e224369716"
      },
      "outputs": [
        {
          "name": "stdout",
          "output_type": "stream",
          "text": [
            "Text: De toute façon t’es qu’un sale juif t’aurais du mourir en 45\n",
            "Prediction: ['toxic', 'obscene', 'threat', 'insult', 'identity_hate']\n",
            "True Label: identity_hate ✅\n",
            "\n",
            "Text: Au pire retourne à la mosquée sale arabe\n",
            "Prediction: ['toxic', 'insult', 'identity_hate']\n",
            "True Label: identity_hate ✅\n",
            "\n",
            "Text: C’est pas l’heure d’aller bouffer des chenilles avec tes 29 femmes le négro ?\n",
            "Prediction: ['toxic', 'obscene', 'insult', 'identity_hate']\n",
            "True Label: identity_hate ✅\n",
            "\n",
            "Text: Oh mon Dieu, je n’avais pas vu un Juif courir comme ça depuis les soldes du salon du cuir\n",
            "Prediction: ['toxic', 'identity_hate']\n",
            "True Label: identity_hate ✅\n",
            "\n",
            "Text: Mais nan j’irai pas en enfer j’suis pas black\n",
            "Prediction: ['toxic', 'identity_hate']\n",
            "True Label: identity_hate ✅\n",
            "\n",
            "Text: Pour vous les juifs le paradis c’est de trouver un cheveu dans votre soupe au resto pour vous faire rembourser\n",
            "Prediction: ['toxic', 'identity_hate']\n",
            "True Label: identity_hate ✅\n",
            "\n",
            "Text: Est-ce qu'on peut se débarrasser de tous les Mexicains ?\n",
            "Prediction: ['toxic', 'identity_hate']\n",
            "True Label: identity_hate ✅\n",
            "\n",
            "Text: Sale bouffeur de chien\n",
            "Prediction: ['toxic', 'insult']\n",
            "True Label: identity_hate ❌\n",
            "\n",
            "Text: J’mange jamais de nems j’veux pas attraper l’covid\n",
            "Prediction: []\n",
            "True Label: identity_hate ❌\n",
            "\n",
            "Text: T’es quand même un sacré fils de pute\n",
            "Prediction: ['toxic', 'severe_toxic', 'obscene', 'insult']\n",
            "True Label: insult ✅\n",
            "\n",
            "Text: J’ai jamais vu un trou du cul pareil\n",
            "Prediction: ['toxic', 'obscene']\n",
            "True Label: insult ❌\n",
            "\n",
            "Text: Mais quel connard\n",
            "Prediction: ['toxic', 'obscene', 'insult']\n",
            "True Label: insult ✅\n",
            "\n",
            "Text: T’es un raté de la vie\n",
            "Prediction: ['toxic', 'insult']\n",
            "True Label: insult ✅\n",
            "\n",
            "Text: En plus d’être une merde tu es un gros lard\n",
            "Prediction: ['toxic', 'obscene', 'insult']\n",
            "True Label: insult ✅\n",
            "\n",
            "Text: Sale pd va\n",
            "Prediction: []\n",
            "True Label: insult ❌\n",
            "\n",
            "Text: je croyais que les enfants handicapés avaient été créées par Dieu pour m’amuser\n",
            "Prediction: []\n",
            "True Label: insult ❌\n",
            "\n",
            "Text: Les films indépendants c’est toujours des histoires de cow-boys PD qui mangent du pudding\n",
            "Prediction: ['toxic', 'insult']\n",
            "True Label: insult ✅\n",
            "\n",
            "Text: J’adore montrer ma grosse queue\n",
            "Prediction: ['toxic', 'obscene']\n",
            "True Label: obscene ✅\n",
            "\n",
            "Text: Suce ma bite sale pd\n",
            "Prediction: ['toxic', 'severe_toxic', 'obscene', 'insult']\n",
            "True Label: obscene ✅\n",
            "\n",
            "Text: J’te démonte\n",
            "Prediction: ['toxic']\n",
            "True Label: obscene ❌\n",
            "\n",
            "Text: J’vais t’enculer à sec\n",
            "Prediction: ['toxic', 'obscene']\n",
            "True Label: obscene ✅\n",
            "\n",
            "Text: Je vais te violer connasse\n",
            "Prediction: ['toxic', 'severe_toxic', 'obscene', 'threat']\n",
            "True Label: obscene ✅\n",
            "\n",
            "Text: Ecarte les cuisses cochonne\n",
            "Prediction: ['toxic']\n",
            "True Label: obscene ❌\n",
            "\n",
            "Text: Je vais te bouffer la chatte\n",
            "Prediction: ['toxic', 'obscene']\n",
            "True Label: obscene ✅\n",
            "\n",
            "Text: Si le paradis est un garçon de huit ans et que l’échelle c’est ma bite, alors je veux bien y croire !\n",
            "Prediction: ['toxic', 'obscene']\n",
            "True Label: obscene ✅\n",
            "\n",
            "Text: J’vais démarrer tes grands morts\n",
            "Prediction: ['toxic', 'threat']\n",
            "True Label: threat ✅\n",
            "\n",
            "Text: J’vais te trace IP et t’ouvrir la gorge\n",
            "Prediction: ['toxic', 'threat']\n",
            "True Label: threat ✅\n",
            "\n",
            "Text: Suicide toi\n",
            "Prediction: ['toxic', 'threat']\n",
            "True Label: threat ✅\n",
            "\n",
            "Text: l2p\n",
            "Prediction: []\n",
            "True Label: toxic ❌\n",
            "\n",
            "Text: ggez\n",
            "Prediction: []\n",
            "True Label: toxic ❌\n",
            "\n",
            "Text: Ma maman dit que Dieu déteste les homosexuels c’est pour ça qu’il a envoyé tous les sodomites en France.\n",
            "Prediction: ['toxic', 'insult', 'identity_hate']\n",
            "True Label: toxic ✅\n",
            "\n",
            "Text: Retourne à la cuisine\n",
            "Prediction: []\n",
            "True Label: toxic ❌\n",
            "\n",
            "Text: Ta gueule conasse, toi tu fermes ta gueule et tu fais des mômes\n",
            "Prediction: ['toxic', 'severe_toxic', 'obscene', 'insult']\n",
            "True Label: toxic ✅\n",
            "\n",
            "Text: T’as tes règles ?\n",
            "Prediction: []\n",
            "True Label: toxic ❌\n",
            "\n",
            "Text: Hey ! Toi tu t’écrases pétasse, retourne dans ta cuisine et fais-moi à bouffer\n",
            "Prediction: ['toxic']\n",
            "True Label: toxic ✅\n",
            "\n",
            "Text: Je n’ai aucune confiance en des êtres qui peuvent saigner 5 jours sans en crever.\n",
            "Prediction: []\n",
            "True Label: toxic ❌\n",
            "\n",
            "Text: Aaahh ! Quand une gonzesse dit « faut qu’on parle », tu peux carrément commencer à te latter les couilles tout seul !\n",
            "Prediction: ['toxic']\n",
            "True Label: toxic ✅\n",
            "\n"
          ]
        }
      ],
      "source": [
        "for i,row in df.iterrows():\n",
        "    sign = \"✅\" if row.correct_multi else \"❌\"\n",
        "    print(f\"Text: {row.text}\")\n",
        "    print(f\"Prediction: {row.prediction}\")    \n",
        "    print(f\"True Label: {row.label} {sign}\\n\")"
      ]
    },
    {
      "cell_type": "markdown",
      "metadata": {
        "id": "3MRSyFQfI3lN"
      },
      "source": [
        "## Custom Sentences: Neutral Performance"
      ]
    },
    {
      "cell_type": "code",
      "execution_count": 29,
      "metadata": {
        "colab": {
          "base_uri": "https://localhost:8080/"
        },
        "id": "Ld_i6GGXI5jZ",
        "outputId": "4d27609f-50e3-49bf-e577-cb5c054ba4c5"
      },
      "outputs": [
        {
          "name": "stdout",
          "output_type": "stream",
          "text": [
            "Text: J'ai adoré la vidéo, continuez comme ça. Je suis déjà abonné.\n",
            "Prediction: []\n",
            "\n",
            "Text: La vidéo était mauvaise. Je ne l'aime pas.\n",
            "Prediction: []\n",
            "\n",
            "Text: Les immigrés vivent avec nous dans notre pays.\n",
            "Prediction: []\n",
            "\n",
            "Text: Je ne suis pas d'accord avec ce que vous dites. Je pense qu'une autre solution peut être trouvée.\n",
            "Prediction: []\n",
            "\n"
          ]
        }
      ],
      "source": [
        "sentences = [\n",
        "    \"J'ai adoré la vidéo, continuez comme ça. Je suis déjà abonné.\",\n",
        "    \"La vidéo était mauvaise. Je ne l'aime pas.\",\n",
        "    \"Les immigrés vivent avec nous dans notre pays.\",\n",
        "    \"Je ne suis pas d'accord avec ce que vous dites. Je pense qu'une autre solution peut être trouvée.\"\n",
        "]\n",
        "for sentence in sentences:\n",
        "    label = classify_text(sentence,return_scores=True)\n",
        "    print(f\"Text: {sentence}\")\n",
        "    print(f\"Prediction: {label}\\n\")"
      ]
    },
    {
      "cell_type": "markdown",
      "metadata": {
        "id": "uWnHHPiNI67q"
      },
      "source": [
        "## Custom Sentences: Difficult Examples"
      ]
    },
    {
      "cell_type": "code",
      "execution_count": 30,
      "metadata": {
        "colab": {
          "base_uri": "https://localhost:8080/"
        },
        "id": "03UImVC_UvTF",
        "outputId": "d06b0a2a-969b-41e6-be6a-066829ede249"
      },
      "outputs": [
        {
          "name": "stdout",
          "output_type": "stream",
          "text": [
            "Text: Je pense que les immigrés ne devraient pas exister dans notre pays.\n",
            "Prediction: [{'label': 'toxic', 'score': 0.8755549788475037}, {'label': 'identity_hate', 'score': 0.9978590607643127}]\n",
            "\n",
            "Text: Je ne suis pas d'accord avec votre opinion, je pense que c'est ridicule.\n",
            "Prediction: [{'label': 'toxic', 'score': 0.8535227179527283}, {'label': 'insult', 'score': 0.8098673820495605}]\n",
            "\n",
            "Text: Je ne suis pas d'accord avec ton opinion, je pense que c'est ridicule, mais je te respecte quand même.\n",
            "Prediction: [{'label': 'toxic', 'score': 0.8800011277198792}, {'label': 'insult', 'score': 0.8775408864021301}]\n",
            "\n",
            "Text: Les hommes peuvent faire des travaux plus difficiles que les femmes.\n",
            "Prediction: [{'label': 'identity_hate', 'score': 0.9858625531196594}]\n",
            "\n",
            "Text: La présence des femmes dans le monde du travail est importante.\n",
            "Prediction: []\n",
            "\n",
            "Text: Les femmes ne peuvent pas réussir dans la vie des affaires.\n",
            "Prediction: [{'label': 'toxic', 'score': 0.8060609698295593}, {'label': 'identity_hate', 'score': 0.9966985583305359}]\n",
            "\n",
            "Text: Les hommes ne peuvent pas réussir dans la vie des affaires.\n",
            "Prediction: []\n",
            "\n"
          ]
        }
      ],
      "source": [
        "sentences = [\n",
        "    \"Je pense que les immigrés ne devraient pas exister dans notre pays.\",    \n",
        "    \"Je ne suis pas d'accord avec votre opinion, je pense que c'est ridicule.\",\n",
        "    \"Je ne suis pas d'accord avec ton opinion, je pense que c'est ridicule, mais je te respecte quand même.\",\n",
        "    \"Les hommes peuvent faire des travaux plus difficiles que les femmes.\",\n",
        "    \"La présence des femmes dans le monde du travail est importante.\",\n",
        "    \"Les femmes ne peuvent pas réussir dans la vie des affaires.\",\n",
        "    \"Les hommes ne peuvent pas réussir dans la vie des affaires.\",\n",
        "]\n",
        "for sentence in sentences:\n",
        "    label = classify_text(sentence, return_scores=True)\n",
        "    print(f\"Text: {sentence}\")\n",
        "    print(f\"Prediction: {label}\\n\")"
      ]
    },
    {
      "cell_type": "code",
      "execution_count": 30,
      "metadata": {
        "id": "Pe5OrinOarPQ"
      },
      "outputs": [],
      "source": []
    }
  ],
  "metadata": {
    "colab": {
      "provenance": []
    },
    "kernelspec": {
      "display_name": "Python 3",
      "language": "python",
      "name": "python3"
    },
    "language_info": {
      "name": "python",
      "version": "3.9.12 (main, Sep  6 2022, 13:54:47) \n[Clang 13.1.6 (clang-1316.0.21.2.5)]"
    },
    "vscode": {
      "interpreter": {
        "hash": "761dcc2e730670a5406af1e4d952870e7bed611eb3687403cb5a8f4459e63789"
      }
    }
  },
  "nbformat": 4,
  "nbformat_minor": 0
}
