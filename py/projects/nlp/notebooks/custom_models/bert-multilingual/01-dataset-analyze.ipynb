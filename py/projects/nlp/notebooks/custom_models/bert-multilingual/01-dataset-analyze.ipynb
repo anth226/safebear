{
 "cells": [
  {
   "cell_type": "code",
   "execution_count": null,
   "id": "69200bf0",
   "metadata": {},
   "outputs": [],
   "source": [
    "import pandas as pd"
   ]
  },
  {
   "cell_type": "markdown",
   "id": "63e8d4a3",
   "metadata": {},
   "source": [
    "## Task\n",
    "You are predicting the probability that a comment is toxic. A toxic comment would receive a 1.0. A benign, non-toxic comment would receive a 0.0. In the test set, all comments are classified as either a 1.0 or a 0.0.\n",
    "\n",
    "## Files\n",
    "- **jigsaw-toxic-comment-train.csv** - data from our first competition. The dataset is made up of English comments from Wikipedia’s talk page edits. (https://www.kaggle.com/c/jigsaw-toxic-comment-classification-challenge)\n",
    "- **jigsaw-unintended-bias-train.csv** - data from our second competition. This is an expanded version of the Civil Comments dataset with a range of additional labels. (https://www.kaggle.com/competitions/jigsaw-unintended-bias-in-toxicity-classification)\n",
    "- **sample_submission.csv** - a sample submission file in the correct format\n",
    "- **test.csv** - comments from Wikipedia talk pages in different non-English languages.\n",
    "- **test_labels.csv** - ground truth labels for the test data (data added after competition deadlin)\n",
    "- **validation.csv** - comments from Wikipedia talk pages in different non-English languages.\n",
    "- **jigsaw-toxic-comment-train-processed-seqlen128.csv** - training data preprocessed for BERT\n",
    "- **jigsaw-unintended-bias-train-processed-seqlen128.csv** - training data preprocessed for BERT\n",
    "- **validation-processed-seqlen128.csv** - validation data preprocessed for BERT\n",
    "- **test-processed-seqlen128.csv** - test data preprocessed for BERT\n",
    "\n",
    "## Columns\n",
    "- **id** - identifier within each file.\n",
    "- **comment_text** - the text of the comment to be classified.\n",
    "- **lang** - the language of the comment.\n",
    "- **toxic** - whether or not the comment is classified as toxic. (Does not exist in test.csv.)"
   ]
  },
  {
   "cell_type": "markdown",
   "id": "da1ba07f",
   "metadata": {},
   "source": [
    "# Data 1"
   ]
  },
  {
   "cell_type": "code",
   "execution_count": null,
   "id": "e406f31f",
   "metadata": {},
   "outputs": [],
   "source": [
    "df = pd.read_csv('./jigsaw-multilingual-toxic-comment-classification/jigsaw-toxic-comment-train.csv')\n",
    "print(f\"Total: {len(df):,}\")\n",
    "df.head()"
   ]
  },
  {
   "cell_type": "code",
   "execution_count": null,
   "id": "34dce175",
   "metadata": {},
   "outputs": [],
   "source": [
    "for label in ['toxic','severe_toxic','obscene','threat','insult','identity_hate']:\n",
    "    total = (df[label] > 0.5).sum()\n",
    "    pct = total / len(df) * 100\n",
    "    print(f\"# of {label}: {total} ({pct:.2f}%)\")"
   ]
  },
  {
   "cell_type": "markdown",
   "id": "659c8451",
   "metadata": {},
   "source": [
    "# Data 2"
   ]
  },
  {
   "cell_type": "code",
   "execution_count": null,
   "id": "3bda67cf",
   "metadata": {},
   "outputs": [],
   "source": [
    "# Values are fractional values which represent the fraction of human raters who believed the attribute applied to the given comment. For evaluation, test set examples with target >= 0.5 will be considered to be in the positive class (toxic).\n",
    "df = pd.read_csv('./jigsaw-multilingual-toxic-comment-classification/jigsaw-unintended-bias-train.csv')\n",
    "df = df[['id','comment_text','toxic','severe_toxicity','obscene','threat','insult','identity_attack','sexual_explicit','toxicity_annotator_count']]\n",
    "print(f\"Total: {len(df):,}\")\n",
    "df.head()"
   ]
  },
  {
   "cell_type": "code",
   "execution_count": null,
   "id": "fc73eeb7",
   "metadata": {},
   "outputs": [],
   "source": [
    "for label in ['toxic','severe_toxicity','obscene','threat','insult','identity_attack','sexual_explicit']:\n",
    "    total = (df[label] > 0.5).sum()\n",
    "    pct = total / len(df) * 100\n",
    "    print(f\"# of {label}: {total} ({pct:.2f}%)\")"
   ]
  },
  {
   "cell_type": "markdown",
   "id": "d6a12406",
   "metadata": {},
   "source": [
    "# Validation Data"
   ]
  },
  {
   "cell_type": "code",
   "execution_count": null,
   "id": "bdf757ba",
   "metadata": {},
   "outputs": [],
   "source": [
    "df = pd.read_csv('./jigsaw-multilingual-toxic-comment-classification/validation.csv')\n",
    "print(f\"Total: {len(df):,}\")\n",
    "df.head()"
   ]
  },
  {
   "cell_type": "markdown",
   "id": "ada663ba",
   "metadata": {},
   "source": [
    "# Test Data"
   ]
  },
  {
   "cell_type": "code",
   "execution_count": null,
   "id": "36b6fd23",
   "metadata": {},
   "outputs": [],
   "source": [
    "df = pd.read_csv('./jigsaw-multilingual-toxic-comment-classification/test.csv')\n",
    "print(f\"Total: {len(df):,}\")\n",
    "print(\"Value Counts:\",df.lang.value_counts().to_dict())\n",
    "df.head()"
   ]
  },
  {
   "cell_type": "code",
   "execution_count": null,
   "id": "d9f24e8f",
   "metadata": {},
   "outputs": [],
   "source": [
    "df = pd.read_csv('./jigsaw-multilingual-toxic-comment-classification/test_labels.csv')\n",
    "print(f\"Total: {len(df):,}\")\n",
    "df.head()"
   ]
  }
 ],
 "metadata": {
  "kernelspec": {
   "display_name": "Python 3 (ipykernel)",
   "language": "python",
   "name": "python3"
  },
  "language_info": {
   "codemirror_mode": {
    "name": "ipython",
    "version": 3
   },
   "file_extension": ".py",
   "mimetype": "text/x-python",
   "name": "python",
   "nbconvert_exporter": "python",
   "pygments_lexer": "ipython3",
   "version": "3.11.2"
  }
 },
 "nbformat": 4,
 "nbformat_minor": 5
}
