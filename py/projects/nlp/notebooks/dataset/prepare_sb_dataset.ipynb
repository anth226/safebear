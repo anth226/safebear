{
 "cells": [
  {
   "cell_type": "code",
   "execution_count": null,
   "id": "178c16d6",
   "metadata": {},
   "outputs": [],
   "source": [
    "import pandas as pd"
   ]
  },
  {
   "cell_type": "code",
   "execution_count": null,
   "id": "4f15ac81",
   "metadata": {},
   "outputs": [],
   "source": [
    "data = {}\n",
    "data[\"Racisme\"] = [\n",
    "    \"De toute façon t'es qu'un sale juif t'aurais du mourir en 45\",\n",
    "    \"Au pire retourne à la mosquée sale arabe\",\n",
    "    \"C'est pas l'heure d'aller bouffer des chenilles avec tes 29 femmes le négro ?\",\n",
    "    \"Oh mon Dieu, je n'avais pas vu un Juif courir comme ça depuis les soldes du salon du cuir\",\n",
    "    \"Mais nan j'irai pas en enfer j'suis pas black\",\n",
    "    \"Pour vous les juifs le paradis c'est de trouver un cheveu dans votre soupe au resto pour vous faire rembourser\",\n",
    "    \"Est-ce qu'on peut se débarrasser de tous les Mexicains ?\",\n",
    "    \"Sale bouffeur de chien\",\n",
    "    \"J'mange jamais de nems j'veux pas attraper l'covid\"\n",
    "]\n",
    "\n",
    "\n",
    "data[\"Insulte (et Discrimination)\"] = [\n",
    "    \"T'es quand même un sacré fils de pute\",\n",
    "    \"J'ai jamais vu un trou du cul pareil\",\n",
    "    \"Mais quel connard\",\n",
    "    \"T'es un raté de la vie\",\n",
    "    \"En plus d'être une merde tu es un gros lard\",\n",
    "    \"Sale pd va\",\n",
    "    \"je croyais que les enfants handicapés avaient été créées par Dieu pour m'amuser\",\n",
    "    \"Les films indépendants c'est toujours des histoires de cow-boys PD qui mangent du pudding\"\n",
    "]\n",
    "\n",
    "data[\"Obscénité\"] = [\n",
    "    \"J'adore montrer ma grosse queue\",\n",
    "    \"Suce ma bite sale pd\",\n",
    "    \"J'te démonte\",\n",
    "    \"J'vais t'enculer à sec\"\n",
    "]\n",
    "\n",
    "\n",
    "data[\"Sexualité explicite\"] = [\n",
    "    \"Je vais te violer connasse\",\n",
    "    \"Ecarte les cuisses cochonne\",\n",
    "    \"Je vais te bouffer la chatte\",\n",
    "    \"Si le paradis est un garçon de huit ans et que l'échelle c'est ma bite, alors je veux bien y croire !\"\n",
    "]\n",
    "\n",
    "\n",
    "data[\"Menace\"] = [\n",
    "    \"J'vais démarrer tes grands morts\",\n",
    "    \"J'vais te trace IP et t'ouvrir la gorge\",\n",
    "    \"Suicide toi\"\n",
    "]\n",
    "\n",
    "\n",
    "data[\"Toxicité\"] = [\n",
    "    \"l2p\",\n",
    "    \"ggez\",\n",
    "    \"Ma maman dit que Dieu déteste les homosexuels c'est pour ça qu'il a envoyé tous les sodomites en France.\",\n",
    "]\n",
    "\n",
    "\n",
    "data[\"Sexisme\"] = [\n",
    "    \"Retourne à la cuisine\",\n",
    "    \"Ta gueule conasse, toi tu fermes ta gueule et tu fais des mômes\",\n",
    "    \"T'as tes règles ?\",\n",
    "    \"Hey ! Toi tu t'écrases pétasse, retourne dans ta cuisine et fais-moi à bouffer\",\n",
    "    \"Je n'ai aucune confiance en des êtres qui peuvent saigner 5 jours sans en crever.\",\n",
    "    \"Aaahh ! Quand une gonzesse dit « faut qu'on parle », tu peux carrément commencer à te latter les couilles tout seul !\"\n",
    "]\n",
    "data = [(text, label) for label,items in data.items() for text in items]"
   ]
  },
  {
   "cell_type": "code",
   "execution_count": null,
   "id": "ab373651",
   "metadata": {},
   "outputs": [],
   "source": [
    "df = pd.DataFrame(data,columns=[\"text\",\"label\"])\n",
    "df.to_csv('./safebear_data.csv',index=False)\n"
   ]
  }
 ],
 "metadata": {
  "kernelspec": {
   "display_name": "Python 3 (ipykernel)",
   "language": "python",
   "name": "python3"
  },
  "language_info": {
   "codemirror_mode": {
    "name": "ipython",
    "version": 3
   },
   "file_extension": ".py",
   "mimetype": "text/x-python",
   "name": "python",
   "nbconvert_exporter": "python",
   "pygments_lexer": "ipython3",
   "version": "3.11.2"
  }
 },
 "nbformat": 4,
 "nbformat_minor": 5
}
